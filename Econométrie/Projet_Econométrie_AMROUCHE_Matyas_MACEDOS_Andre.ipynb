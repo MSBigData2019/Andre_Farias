{
 "cells": [
  {
   "cell_type": "markdown",
   "metadata": {},
   "source": [
    "AMROUCHE Matyas, MACEDOS André"
   ]
  },
  {
   "cell_type": "markdown",
   "metadata": {},
   "source": [
    "# Projet d'Econométrie SES722"
   ]
  },
  {
   "cell_type": "markdown",
   "metadata": {},
   "source": [
    "## Partie 1. Régression"
   ]
  },
  {
   "cell_type": "code",
   "execution_count": 18,
   "metadata": {
    "ExecuteTime": {
     "end_time": "2019-04-28T12:06:24.169683Z",
     "start_time": "2019-04-28T12:06:24.151853Z"
    }
   },
   "outputs": [],
   "source": [
    "import pandas as pd\n",
    "import numpy as np\n",
    "import matplotlib.pyplot as plt\n",
    "import seaborn as sns\n",
    "import statsmodels.api as sm\n",
    "from sklearn.linear_model import LinearRegression\n",
    "from scipy.stats import t, f, chi2\n",
    "\n",
    "sns.set_style('darkgrid')"
   ]
  },
  {
   "cell_type": "markdown",
   "metadata": {},
   "source": [
    "### 1. Lire le fichier mroz.txt. Ne sélectionner que les observations pour lesquelles la variable wage est strictement positive."
   ]
  },
  {
   "cell_type": "code",
   "execution_count": 2,
   "metadata": {
    "ExecuteTime": {
     "end_time": "2019-04-27T17:04:42.893523Z",
     "start_time": "2019-04-27T17:04:42.810289Z"
    },
    "code_folding": []
   },
   "outputs": [],
   "source": [
    "df = pd.read_csv('MROZ.raw', sep='\\s+', header= None)\n",
    "df = df.rename(columns={0:'inlf',\n",
    "                      1:'hours',\n",
    "                     2:'kidslt6',\n",
    "                     3:'kidsge6',\n",
    "                     4:'age',\n",
    "                     5:'educ',\n",
    "                     6:'wage',\n",
    "                     7:'repwage',\n",
    "                     8:'hushrs',\n",
    "                     9:'husage',\n",
    "                     10:'huseduc',\n",
    "                     11:'huswage',\n",
    "                     12:'faminc',\n",
    "                     13:'mtr',\n",
    "                     14:'motheduc',\n",
    "                     15:'fatheduc',\n",
    "                     16:'unem',\n",
    "                     17:'city',\n",
    "                     18:'exper',\n",
    "                     19:'nwifeinc',\n",
    "                     20:'lwage',\n",
    "                     21:'expersq'})"
   ]
  },
  {
   "cell_type": "code",
   "execution_count": 3,
   "metadata": {
    "ExecuteTime": {
     "end_time": "2019-04-27T17:04:43.099809Z",
     "start_time": "2019-04-27T17:04:43.037618Z"
    }
   },
   "outputs": [
    {
     "data": {
      "text/html": [
       "<div>\n",
       "<style scoped>\n",
       "    .dataframe tbody tr th:only-of-type {\n",
       "        vertical-align: middle;\n",
       "    }\n",
       "\n",
       "    .dataframe tbody tr th {\n",
       "        vertical-align: top;\n",
       "    }\n",
       "\n",
       "    .dataframe thead th {\n",
       "        text-align: right;\n",
       "    }\n",
       "</style>\n",
       "<table border=\"1\" class=\"dataframe\">\n",
       "  <thead>\n",
       "    <tr style=\"text-align: right;\">\n",
       "      <th></th>\n",
       "      <th>inlf</th>\n",
       "      <th>hours</th>\n",
       "      <th>kidslt6</th>\n",
       "      <th>kidsge6</th>\n",
       "      <th>age</th>\n",
       "      <th>educ</th>\n",
       "      <th>wage</th>\n",
       "      <th>repwage</th>\n",
       "      <th>hushrs</th>\n",
       "      <th>husage</th>\n",
       "      <th>...</th>\n",
       "      <th>faminc</th>\n",
       "      <th>mtr</th>\n",
       "      <th>motheduc</th>\n",
       "      <th>fatheduc</th>\n",
       "      <th>unem</th>\n",
       "      <th>city</th>\n",
       "      <th>exper</th>\n",
       "      <th>nwifeinc</th>\n",
       "      <th>lwage</th>\n",
       "      <th>expersq</th>\n",
       "    </tr>\n",
       "  </thead>\n",
       "  <tbody>\n",
       "    <tr>\n",
       "      <th>0</th>\n",
       "      <td>1</td>\n",
       "      <td>1610</td>\n",
       "      <td>1</td>\n",
       "      <td>0</td>\n",
       "      <td>32</td>\n",
       "      <td>12</td>\n",
       "      <td>3.354</td>\n",
       "      <td>2.65</td>\n",
       "      <td>2708</td>\n",
       "      <td>34</td>\n",
       "      <td>...</td>\n",
       "      <td>16310</td>\n",
       "      <td>0.7215</td>\n",
       "      <td>12</td>\n",
       "      <td>7</td>\n",
       "      <td>5.0</td>\n",
       "      <td>0</td>\n",
       "      <td>14</td>\n",
       "      <td>10.910060</td>\n",
       "      <td>1.210154</td>\n",
       "      <td>196</td>\n",
       "    </tr>\n",
       "    <tr>\n",
       "      <th>1</th>\n",
       "      <td>1</td>\n",
       "      <td>1656</td>\n",
       "      <td>0</td>\n",
       "      <td>2</td>\n",
       "      <td>30</td>\n",
       "      <td>12</td>\n",
       "      <td>1.3889</td>\n",
       "      <td>2.65</td>\n",
       "      <td>2310</td>\n",
       "      <td>30</td>\n",
       "      <td>...</td>\n",
       "      <td>21800</td>\n",
       "      <td>0.6615</td>\n",
       "      <td>7</td>\n",
       "      <td>7</td>\n",
       "      <td>11.0</td>\n",
       "      <td>1</td>\n",
       "      <td>5</td>\n",
       "      <td>19.499980</td>\n",
       "      <td>.3285121</td>\n",
       "      <td>25</td>\n",
       "    </tr>\n",
       "    <tr>\n",
       "      <th>2</th>\n",
       "      <td>1</td>\n",
       "      <td>1980</td>\n",
       "      <td>1</td>\n",
       "      <td>3</td>\n",
       "      <td>35</td>\n",
       "      <td>12</td>\n",
       "      <td>4.5455</td>\n",
       "      <td>4.04</td>\n",
       "      <td>3072</td>\n",
       "      <td>40</td>\n",
       "      <td>...</td>\n",
       "      <td>21040</td>\n",
       "      <td>0.6915</td>\n",
       "      <td>12</td>\n",
       "      <td>7</td>\n",
       "      <td>5.0</td>\n",
       "      <td>0</td>\n",
       "      <td>15</td>\n",
       "      <td>12.039910</td>\n",
       "      <td>1.514138</td>\n",
       "      <td>225</td>\n",
       "    </tr>\n",
       "    <tr>\n",
       "      <th>3</th>\n",
       "      <td>1</td>\n",
       "      <td>456</td>\n",
       "      <td>0</td>\n",
       "      <td>3</td>\n",
       "      <td>34</td>\n",
       "      <td>12</td>\n",
       "      <td>1.0965</td>\n",
       "      <td>3.25</td>\n",
       "      <td>1920</td>\n",
       "      <td>53</td>\n",
       "      <td>...</td>\n",
       "      <td>7300</td>\n",
       "      <td>0.7815</td>\n",
       "      <td>7</td>\n",
       "      <td>7</td>\n",
       "      <td>5.0</td>\n",
       "      <td>0</td>\n",
       "      <td>6</td>\n",
       "      <td>6.799996</td>\n",
       "      <td>.0921233</td>\n",
       "      <td>36</td>\n",
       "    </tr>\n",
       "    <tr>\n",
       "      <th>4</th>\n",
       "      <td>1</td>\n",
       "      <td>1568</td>\n",
       "      <td>1</td>\n",
       "      <td>2</td>\n",
       "      <td>31</td>\n",
       "      <td>14</td>\n",
       "      <td>4.5918</td>\n",
       "      <td>3.60</td>\n",
       "      <td>2000</td>\n",
       "      <td>32</td>\n",
       "      <td>...</td>\n",
       "      <td>27300</td>\n",
       "      <td>0.6215</td>\n",
       "      <td>12</td>\n",
       "      <td>14</td>\n",
       "      <td>9.5</td>\n",
       "      <td>1</td>\n",
       "      <td>7</td>\n",
       "      <td>20.100060</td>\n",
       "      <td>1.524272</td>\n",
       "      <td>49</td>\n",
       "    </tr>\n",
       "  </tbody>\n",
       "</table>\n",
       "<p>5 rows × 22 columns</p>\n",
       "</div>"
      ],
      "text/plain": [
       "   inlf  hours  kidslt6  kidsge6  age  educ    wage  repwage  hushrs  husage  \\\n",
       "0     1   1610        1        0   32    12   3.354     2.65    2708      34   \n",
       "1     1   1656        0        2   30    12  1.3889     2.65    2310      30   \n",
       "2     1   1980        1        3   35    12  4.5455     4.04    3072      40   \n",
       "3     1    456        0        3   34    12  1.0965     3.25    1920      53   \n",
       "4     1   1568        1        2   31    14  4.5918     3.60    2000      32   \n",
       "\n",
       "   ...  faminc     mtr  motheduc  fatheduc  unem  city  exper   nwifeinc  \\\n",
       "0  ...   16310  0.7215        12         7   5.0     0     14  10.910060   \n",
       "1  ...   21800  0.6615         7         7  11.0     1      5  19.499980   \n",
       "2  ...   21040  0.6915        12         7   5.0     0     15  12.039910   \n",
       "3  ...    7300  0.7815         7         7   5.0     0      6   6.799996   \n",
       "4  ...   27300  0.6215        12        14   9.5     1      7  20.100060   \n",
       "\n",
       "      lwage  expersq  \n",
       "0  1.210154      196  \n",
       "1  .3285121       25  \n",
       "2  1.514138      225  \n",
       "3  .0921233       36  \n",
       "4  1.524272       49  \n",
       "\n",
       "[5 rows x 22 columns]"
      ]
     },
     "execution_count": 3,
     "metadata": {},
     "output_type": "execute_result"
    }
   ],
   "source": [
    "df.head()"
   ]
  },
  {
   "cell_type": "code",
   "execution_count": 4,
   "metadata": {
    "ExecuteTime": {
     "end_time": "2019-04-27T17:04:43.216982Z",
     "start_time": "2019-04-27T17:04:43.210806Z"
    }
   },
   "outputs": [
    {
     "name": "stdout",
     "output_type": "stream",
     "text": [
      "Nombre d'observations: 753\n"
     ]
    }
   ],
   "source": [
    "print(\"Nombre d'observations:\", len(df))"
   ]
  },
  {
   "cell_type": "code",
   "execution_count": 5,
   "metadata": {
    "ExecuteTime": {
     "end_time": "2019-04-27T17:04:43.338679Z",
     "start_time": "2019-04-27T17:04:43.325406Z"
    }
   },
   "outputs": [],
   "source": [
    "# Conversion de l'atribut wage en flottant\n",
    "\n",
    "def convert_float(s):\n",
    "    if s != '.':\n",
    "        return float(s)\n",
    "    else:\n",
    "        return 0.0\n",
    "    \n",
    "df.wage = df.wage.apply(convert_float)"
   ]
  },
  {
   "cell_type": "code",
   "execution_count": 6,
   "metadata": {
    "ExecuteTime": {
     "end_time": "2019-04-27T17:04:43.453221Z",
     "start_time": "2019-04-27T17:04:43.444251Z"
    }
   },
   "outputs": [],
   "source": [
    "# Selectionner les observations pour lesquelles la variable wage est strictement positive\n",
    "df = df[df.wage > 0]"
   ]
  },
  {
   "cell_type": "code",
   "execution_count": 7,
   "metadata": {
    "ExecuteTime": {
     "end_time": "2019-04-27T17:04:43.575756Z",
     "start_time": "2019-04-27T17:04:43.566584Z"
    }
   },
   "outputs": [
    {
     "name": "stdout",
     "output_type": "stream",
     "text": [
      "Nombre d'observations après nettoyage: 428\n"
     ]
    }
   ],
   "source": [
    "print(\"Nombre d'observations après nettoyage:\", len(df))"
   ]
  },
  {
   "cell_type": "markdown",
   "metadata": {},
   "source": [
    "### 2. Faire les statistiques descriptives du salaire, de l’age et de l’éducation pour l’ensemble des femmes puis, pour les femmes dont le salaire du mari est supérieure à la médiane de l’échantillon, puis pour les femmes dont le salaire du mari est inférieur à la médiane de l’échantillon"
   ]
  },
  {
   "cell_type": "code",
   "execution_count": 8,
   "metadata": {
    "ExecuteTime": {
     "end_time": "2019-04-27T17:04:43.693256Z",
     "start_time": "2019-04-27T17:04:43.680144Z"
    }
   },
   "outputs": [],
   "source": [
    "def stats(df):\n",
    "    '''Methode qui output les stats descriptives d'un ensemble d'observations\n",
    "    '''\n",
    "    stats_dict = {'wage': dict(),\n",
    "                  'age': dict(),\n",
    "                  'educ': dict()}\n",
    "    \n",
    "    for att in stats_dict.keys():\n",
    "        tmp_dict = stats_dict[att]\n",
    "        tmp_dict['mean'] = np.mean(df[att])\n",
    "        tmp_dict['std'] = np.std(df[att])\n",
    "        tmp_dict['min'] = np.min(df[att])\n",
    "        tmp_dict['max'] = np.max(df[att])\n",
    "\n",
    "    stats_dict['cov'] = np.cov(df[['wage', 'age', 'educ']], rowvar=False)\n",
    "    stats_dict['corr'] = np.corrcoef(df[['wage', 'age', 'educ']], rowvar=False)\n",
    "    \n",
    "    return stats_dict\n",
    "\n",
    "def display_stats(stats_dict):\n",
    "    '''Methode qui affiche les stats descriptives d'un dictionnaire\n",
    "    '''\n",
    "    print('-----------------------------------------------------')\n",
    "    print('| Attribute |  mean   |  std   |    min   |    max   |')\n",
    "    print('-----------------------------------------------------')\n",
    "    for att in ('wage', 'age ', 'educ'):\n",
    "        print('|    ' + att + '   |  {:5.2f}  |  {:4.2f}  |  {:6.3f}  |  {:6.3f}  |'\\\n",
    "              .format(stats_dict[att.strip()]['mean'], stats_dict[att.strip()]['std'], \n",
    "                      stats_dict[att.strip()]['min'], stats_dict[att.strip()]['max']))\n",
    "    print('-----------------------------------------------------')\n",
    "    print('\\nCovariance matrix:')\n",
    "    print(stats_dict['cov'])\n",
    "    print('\\nCorrelation matrix:')\n",
    "    print(stats_dict['corr'])"
   ]
  },
  {
   "cell_type": "markdown",
   "metadata": {},
   "source": [
    "**Statistiques pour l'ensemble de femmes:**"
   ]
  },
  {
   "cell_type": "code",
   "execution_count": 9,
   "metadata": {
    "ExecuteTime": {
     "end_time": "2019-04-27T17:04:43.822899Z",
     "start_time": "2019-04-27T17:04:43.793274Z"
    }
   },
   "outputs": [
    {
     "name": "stdout",
     "output_type": "stream",
     "text": [
      "Ensemble de femmes:\n",
      "\n",
      "-----------------------------------------------------\n",
      "| Attribute |  mean   |  std   |    min   |    max   |\n",
      "-----------------------------------------------------\n",
      "|    wage   |   4.18  |  3.31  |   0.128  |  25.000  |\n",
      "|    age    |  41.97  |  7.71  |  30.000  |  60.000  |\n",
      "|    educ   |  12.66  |  2.28  |   5.000  |  17.000  |\n",
      "-----------------------------------------------------\n",
      "\n",
      "Covariance matrix:\n",
      "[[10.95796949  0.77685054  2.58696699]\n",
      " [ 0.77685054 59.61513712 -0.92059358]\n",
      " [ 2.58696699 -0.92059358  5.22294206]]\n",
      "\n",
      "Correlation matrix:\n",
      "[[ 1.          0.03039444  0.34195443]\n",
      " [ 0.03039444  1.         -0.05217135]\n",
      " [ 0.34195443 -0.05217135  1.        ]]\n"
     ]
    }
   ],
   "source": [
    "print('Ensemble de femmes:\\n')\n",
    "display_stats(stats(df))"
   ]
  },
  {
   "cell_type": "markdown",
   "metadata": {},
   "source": [
    "**Statistiques pour les femmes dont le salaire du mari est supérieure à la médiane de l’échantillon:**"
   ]
  },
  {
   "cell_type": "code",
   "execution_count": 10,
   "metadata": {
    "ExecuteTime": {
     "end_time": "2019-04-27T17:04:43.982425Z",
     "start_time": "2019-04-27T17:04:43.956848Z"
    }
   },
   "outputs": [
    {
     "name": "stdout",
     "output_type": "stream",
     "text": [
      "Femmes dont le salaire du mari est supérieure à la médiane de l’échantillon:\n",
      "\n",
      "-----------------------------------------------------\n",
      "| Attribute |  mean   |  std   |    min   |    max   |\n",
      "-----------------------------------------------------\n",
      "|    wage   |   4.90  |  4.03  |   0.162  |  25.000  |\n",
      "|    age    |  42.28  |  7.37  |  30.000  |  59.000  |\n",
      "|    educ   |  13.24  |  2.35  |   5.000  |  17.000  |\n",
      "-----------------------------------------------------\n",
      "\n",
      "Covariance matrix:\n",
      "[[16.33457865 -0.33098978  3.27145368]\n",
      " [-0.33098978 54.59499364 -1.14242464]\n",
      " [ 3.27145368 -1.14242464  5.56509148]]\n",
      "\n",
      "Correlation matrix:\n",
      "[[ 1.         -0.01108369  0.34312365]\n",
      " [-0.01108369  1.         -0.06554129]\n",
      " [ 0.34312365 -0.06554129  1.        ]]\n"
     ]
    }
   ],
   "source": [
    "df2 = df[df.huswage > np.median(df.huswage)]\n",
    "\n",
    "print('Femmes dont le salaire du mari est supérieure à la médiane de l’échantillon:\\n')\n",
    "display_stats(stats(df2))"
   ]
  },
  {
   "cell_type": "markdown",
   "metadata": {},
   "source": [
    "**Statistiques pour les femmes dont le salaire du mari est inférieur à la médiane de l’échantillon:**"
   ]
  },
  {
   "cell_type": "code",
   "execution_count": 11,
   "metadata": {
    "ExecuteTime": {
     "end_time": "2019-04-27T17:04:44.220504Z",
     "start_time": "2019-04-27T17:04:44.197000Z"
    }
   },
   "outputs": [
    {
     "name": "stdout",
     "output_type": "stream",
     "text": [
      "Femmes dont le salaire du mari est inférieur à la médiane de l’échantillon:\n",
      "\n",
      "-----------------------------------------------------\n",
      "| Attribute |  mean   |  std   |    min   |    max   |\n",
      "-----------------------------------------------------\n",
      "|    wage   |   3.46  |  2.14  |   0.128  |  18.267  |\n",
      "|    age    |  41.67  |  8.03  |  30.000  |  60.000  |\n",
      "|    educ   |  12.07  |  2.05  |   6.000  |  17.000  |\n",
      "-----------------------------------------------------\n",
      "\n",
      "Covariance matrix:\n",
      "[[ 4.59362296  1.44942576  1.07056361]\n",
      " [ 1.44942576 64.72978369 -1.05958492]\n",
      " [ 1.07056361 -1.05958492  4.21973586]]\n",
      "\n",
      "Correlation matrix:\n",
      "[[ 1.          0.08405552  0.24316002]\n",
      " [ 0.08405552  1.         -0.06411226]\n",
      " [ 0.24316002 -0.06411226  1.        ]]\n"
     ]
    }
   ],
   "source": [
    "df3 = df[df.huswage < np.median(df.huswage)]\n",
    "\n",
    "print('Femmes dont le salaire du mari est inférieur à la médiane de l’échantillon:\\n')\n",
    "display_stats(stats(df3))"
   ]
  },
  {
   "cell_type": "markdown",
   "metadata": {},
   "source": [
    "### 3. Faire l'histogramme de la variable wage. Calculer le log de wage et faire l'histogramme. Comparez les deux histogrammes et commentez"
   ]
  },
  {
   "cell_type": "code",
   "execution_count": 12,
   "metadata": {
    "ExecuteTime": {
     "end_time": "2019-04-27T17:04:45.033304Z",
     "start_time": "2019-04-27T17:04:44.436641Z"
    }
   },
   "outputs": [
    {
     "data": {
      "image/png": "[encoded data removed]",
      "text/plain": [
       "<Figure size 720x360 with 2 Axes>"
      ]
     },
     "metadata": {
      "needs_background": "light"
     },
     "output_type": "display_data"
    }
   ],
   "source": [
    "fig, axs = plt.subplots(1, 2, figsize=(10, 5), sharey=True)\n",
    "axs[0].hist(df.wage, bins=20);\n",
    "axs[0].set_title('Wage')\n",
    "axs[1].hist(df.wage.apply(np.log), bins=20, color='g')\n",
    "axs[1].set_title('Log of wage')\n",
    "plt.suptitle('Histograms', fontsize=14);"
   ]
  },
  {
   "cell_type": "markdown",
   "metadata": {},
   "source": [
    "On peut noter que l'histogramme de la variable *wage* rassemble à une distribution log-normal alors que l'histogramme du log de la variable *wage* rassemble à une distribution normal"
   ]
  },
  {
   "cell_type": "markdown",
   "metadata": {},
   "source": [
    "### 4. Calculer les corrélations motheduc et fatheduc. Commentez. Il y a-t-il un problème de multicollinéarité si l'on utilise ces variables comme variables explicatives ?"
   ]
  },
  {
   "cell_type": "code",
   "execution_count": 13,
   "metadata": {
    "ExecuteTime": {
     "end_time": "2019-04-27T17:04:45.279546Z",
     "start_time": "2019-04-27T17:04:45.267676Z"
    }
   },
   "outputs": [
    {
     "name": "stdout",
     "output_type": "stream",
     "text": [
      "Matrice de corrélation entre motheduc et fatheduc: \n",
      "\n",
      "[[1.         0.55406322]\n",
      " [0.55406322 1.        ]]\n"
     ]
    }
   ],
   "source": [
    "print('Matrice de corrélation entre motheduc et fatheduc: \\n')\n",
    "print(np.corrcoef(df[['motheduc', 'fatheduc']], rowvar=False))"
   ]
  },
  {
   "cell_type": "markdown",
   "metadata": {},
   "source": [
    "Comme la corrélation entre ces deux variables n'est pas proche de 1 il n'y aura pas de multicollinéarité si l'on utilise ces variables comme variables explicatives."
   ]
  },
  {
   "cell_type": "markdown",
   "metadata": {},
   "source": [
    "### Faites un graphique en nuage de point entre wage et educ, wage et exper, wage et fatheduc. Commentez. S'agit-il d'un effet \"toute chose étant égale par ailleurs ?\""
   ]
  },
  {
   "cell_type": "code",
   "execution_count": 14,
   "metadata": {
    "ExecuteTime": {
     "end_time": "2019-04-27T17:04:46.098347Z",
     "start_time": "2019-04-27T17:04:45.508339Z"
    }
   },
   "outputs": [
    {
     "data": {
      "image/png": "[encoded data removed]",
      "text/plain": [
       "<Figure size 1080x360 with 3 Axes>"
      ]
     },
     "metadata": {
      "needs_background": "light"
     },
     "output_type": "display_data"
    }
   ],
   "source": [
    "fig, axs = plt.subplots(1, 3, figsize=(15, 5), sharey=True)\n",
    "axs[0].scatter(df.educ, df.wage)\n",
    "axs[0].set_title('educ')\n",
    "axs[0].set_ylabel('Wage')\n",
    "axs[1].scatter(df.exper, df.wage, color='r')\n",
    "axs[1].set_title('exper')\n",
    "axs[2].scatter(df.fatheduc, df.wage,color='g')\n",
    "axs[2].set_title('fatheduc')\n",
    "plt.suptitle('Scatter graphs of wage versus other variables', fontsize=14);"
   ]
  },
  {
   "cell_type": "markdown",
   "metadata": {},
   "source": [
    "En analysant les nuages de point on peut voir que la variable *wage* n'est pas directement prédite par une variation unique d'une des variables *educ*, *exper* et *fatheeduc*. Alors, cela ne s'agit pas d'un effet **\"toute chose étant égale par ailleurs\"**."
   ]
  },
  {
   "cell_type": "markdown",
   "metadata": {},
   "source": [
    "### 6. Quelle est l'hypothèse fondamentale qui garanti des estimateurs non biaisés ? Expliquer le biais de variable omise"
   ]
  },
  {
   "cell_type": "markdown",
   "metadata": {},
   "source": [
    "L'hypothèse fondamentale pour la grantie des estimateurs non biaisés est que la variable non-observée soit de moyenne nulle et que la variable non-observée ne dépende pas des variables explicatives. \n",
    "\n",
    "Le biais de variable omise c'est un effet qui apparait quand il y a une ou plus de variables que nous pouvons pas mésurer et qui ne sont pas prises en comptes dans la régression, mais qui ont une corrélation avec les autres variables explicatives et/ou la variable à expliquer. Dans telle situation, la variable non-observée du modèle agrège toutes les variables que nous pouvons pas mésurer. Alors, dans ce cas l'hypothèse de moyenne nulle et de non-corrélation de la variable non-observée n'est pas respectée."
   ]
  },
  {
   "cell_type": "markdown",
   "metadata": {},
   "source": [
    "### 7. Faire la régression de wage en utilisant les variables explicatives un constante, city, educ, exper, nwifeinc, kidslt6, kidsgt6. Commentez l'histogramme des résidus."
   ]
  },
  {
   "cell_type": "code",
   "execution_count": 15,
   "metadata": {
    "ExecuteTime": {
     "end_time": "2019-04-27T17:04:46.409950Z",
     "start_time": "2019-04-27T17:04:46.338520Z"
    }
   },
   "outputs": [
    {
     "name": "stdout",
     "output_type": "stream",
     "text": [
      "                            OLS Regression Results                            \n",
      "==============================================================================\n",
      "Dep. Variable:                   wage   R-squared:                       0.127\n",
      "Model:                            OLS   Adj. R-squared:                  0.115\n",
      "Method:                 Least Squares   F-statistic:                     10.23\n",
      "Date:                Sat, 27 Apr 2019   Prob (F-statistic):           1.41e-10\n",
      "Time:                        19:04:46   Log-Likelihood:                -1090.0\n",
      "No. Observations:                 428   AIC:                             2194.\n",
      "Df Residuals:                     421   BIC:                             2222.\n",
      "Df Model:                           6                                         \n",
      "Covariance Type:            nonrobust                                         \n",
      "==============================================================================\n",
      "                 coef    std err          t      P>|t|      [0.025      0.975]\n",
      "------------------------------------------------------------------------------\n",
      "const         -2.4035      0.963     -2.495      0.013      -4.297      -0.510\n",
      "city           0.3698      0.327      1.132      0.258      -0.272       1.012\n",
      "educ           0.4600      0.070      6.546      0.000       0.322       0.598\n",
      "exper          0.0238      0.021      1.141      0.255      -0.017       0.065\n",
      "nwifeinc       0.0152      0.015      0.984      0.326      -0.015       0.046\n",
      "kidslt6        0.0362      0.397      0.091      0.927      -0.744       0.816\n",
      "kidsge6       -0.0619      0.125     -0.494      0.622      -0.308       0.185\n",
      "==============================================================================\n",
      "Omnibus:                      345.825   Durbin-Watson:                   2.056\n",
      "Prob(Omnibus):                  0.000   Jarque-Bera (JB):             6499.375\n",
      "Skew:                           3.389   Prob(JB):                         0.00\n",
      "Kurtosis:                      20.847   Cond. No.                         178.\n",
      "==============================================================================\n",
      "\n",
      "Warnings:\n",
      "[1] Standard Errors assume that the covariance matrix of the errors is correctly specified.\n"
     ]
    },
    {
     "name": "stderr",
     "output_type": "stream",
     "text": [
      "/anaconda3/lib/python3.6/site-packages/numpy/core/fromnumeric.py:2389: FutureWarning: Method .ptp is deprecated and will be removed in a future version. Use numpy.ptp instead.\n",
      "  return ptp(axis=axis, out=out, **kwargs)\n"
     ]
    }
   ],
   "source": [
    "# Creating dataframe with constant to be fed to OLS model\n",
    "X = sm.add_constant(df[['city', 'educ', 'exper', 'nwifeinc', 'kidslt6', 'kidsge6']])\n",
    "model = sm.OLS(df.wage, X)\n",
    "results = model.fit()\n",
    "\n",
    "print(results.summary())"
   ]
  },
  {
   "cell_type": "code",
   "execution_count": 16,
   "metadata": {
    "ExecuteTime": {
     "end_time": "2019-04-27T17:04:47.038617Z",
     "start_time": "2019-04-27T17:04:46.709961Z"
    }
   },
   "outputs": [
    {
     "data": {
      "image/png": "[encoded data removed]",
      "text/plain": [
       "<Figure size 504x360 with 1 Axes>"
      ]
     },
     "metadata": {
      "needs_background": "light"
     },
     "output_type": "display_data"
    }
   ],
   "source": [
    "# Residuals histogram\n",
    "plt.figure(figsize=(7,5))\n",
    "plt.hist(results.resid, bins=30)\n",
    "plt.title('Histogram of residuals from the OLS model for wage on city, educ, exper, nwifeinc, kidslt6 and kidsgt6, with intercept', fontsize=12)\n",
    "plt.xlabel('Residuals', fontsize=12);"
   ]
  },
  {
   "cell_type": "markdown",
   "metadata": {},
   "source": [
    "Cet histogramme peut s'approcher d'une distribution gaussienne comme on espère avec une régression linéaire, par contre il y a une quantité non-négligeable d'outliers qui peuvent nous donner l'indice que ce modèle n'est pas le meilleur pour expliquer la variable *wage*"
   ]
  },
  {
   "cell_type": "markdown",
   "metadata": {},
   "source": [
    "### 8. Faire la régression de lwage sur une constante, city, educ, exper, nwifeinc, kidslt6, kidsgt6. Comparer l’histogramme obtenu à celui de la question 7."
   ]
  },
  {
   "cell_type": "code",
   "execution_count": 17,
   "metadata": {
    "ExecuteTime": {
     "end_time": "2019-04-27T17:04:49.296082Z",
     "start_time": "2019-04-27T17:04:49.276811Z"
    }
   },
   "outputs": [
    {
     "name": "stdout",
     "output_type": "stream",
     "text": [
      "                            OLS Regression Results                            \n",
      "==============================================================================\n",
      "Dep. Variable:                  lwage   R-squared:                       0.156\n",
      "Model:                            OLS   Adj. R-squared:                  0.144\n",
      "Method:                 Least Squares   F-statistic:                     12.92\n",
      "Date:                Sat, 27 Apr 2019   Prob (F-statistic):           2.00e-13\n",
      "Time:                        19:04:49   Log-Likelihood:                -431.92\n",
      "No. Observations:                 428   AIC:                             877.8\n",
      "Df Residuals:                     421   BIC:                             906.3\n",
      "Df Model:                           6                                         \n",
      "Covariance Type:            nonrobust                                         \n",
      "==============================================================================\n",
      "                 coef    std err          t      P>|t|      [0.025      0.975]\n",
      "------------------------------------------------------------------------------\n",
      "const         -0.3990      0.207     -1.927      0.055      -0.806       0.008\n",
      "city           0.0353      0.070      0.503      0.616      -0.103       0.173\n",
      "educ           0.1022      0.015      6.771      0.000       0.073       0.132\n",
      "exper          0.0155      0.004      3.452      0.001       0.007       0.024\n",
      "nwifeinc       0.0049      0.003      1.466      0.143      -0.002       0.011\n",
      "kidslt6       -0.0453      0.085     -0.531      0.596      -0.213       0.122\n",
      "kidsge6       -0.0117      0.027     -0.434      0.664      -0.065       0.041\n",
      "==============================================================================\n",
      "Omnibus:                       79.542   Durbin-Watson:                   1.979\n",
      "Prob(Omnibus):                  0.000   Jarque-Bera (JB):              287.193\n",
      "Skew:                          -0.795   Prob(JB):                     4.33e-63\n",
      "Kurtosis:                       6.685   Cond. No.                         178.\n",
      "==============================================================================\n",
      "\n",
      "Warnings:\n",
      "[1] Standard Errors assume that the covariance matrix of the errors is correctly specified.\n"
     ]
    }
   ],
   "source": [
    "# Apply model on lwage after transforming variable type to float\n",
    "model_log = sm.OLS(df.lwage.apply(float), X)\n",
    "results_log = model_log.fit()\n",
    "\n",
    "print(results_log.summary())"
   ]
  },
  {
   "cell_type": "code",
   "execution_count": 18,
   "metadata": {
    "ExecuteTime": {
     "end_time": "2019-04-27T17:04:50.017858Z",
     "start_time": "2019-04-27T17:04:49.694690Z"
    }
   },
   "outputs": [
    {
     "data": {
      "image/png": "[encoded data removed]",
      "text/plain": [
       "<Figure size 504x360 with 1 Axes>"
      ]
     },
     "metadata": {
      "needs_background": "light"
     },
     "output_type": "display_data"
    }
   ],
   "source": [
    "# Residuals histogram for log(wage)\n",
    "plt.figure(figsize=(7,5))\n",
    "plt.hist(results_log.resid, bins=30, color='g')\n",
    "plt.title('Histogram of residuals from the OLS model for log(wage) on city, educ, exper, nwifeinc, kidslt6 and kidsgt6, with intercept', fontsize=12)\n",
    "plt.xlabel('Residuals', fontsize=12);"
   ]
  },
  {
   "cell_type": "markdown",
   "metadata": {},
   "source": [
    "En comparant les des histogrammes on peut voir que la régression sur log(wage) est le modèle qui explique le mieux la variable wage. L'histogramme des résidues du modèle OLS sur log(wage) s'approche plus d'une distribuition normale avec très peu d'outliers"
   ]
  },
  {
   "cell_type": "markdown",
   "metadata": {},
   "source": [
    "### 9. Tester l'hypothèse de non significativité de exper avec un seuil de significativité de 1%, 5% et 10% (test alternatif des deux côtés). Commentez les p-values."
   ]
  },
  {
   "cell_type": "code",
   "execution_count": 19,
   "metadata": {
    "ExecuteTime": {
     "end_time": "2019-04-27T17:04:50.379467Z",
     "start_time": "2019-04-27T17:04:50.368593Z"
    }
   },
   "outputs": [
    {
     "name": "stdout",
     "output_type": "stream",
     "text": [
      "Coefficientes du modèle:\n",
      "[-0.39897523  0.03526789  0.10224755  0.01548787  0.0048827  -0.04530287\n",
      " -0.01170351]\n"
     ]
    }
   ],
   "source": [
    "# Recalculating coefficients and redisuals using numpy\n",
    "X = np.array(X, dtype=float)\n",
    "y = np.array(df.lwage, dtype=float)\n",
    "\n",
    "coeffs = np.linalg.inv(X.T @ X) @ X.T @ y\n",
    "res = y - X @ coeffs\n",
    "\n",
    "print(\"Coefficientes du modèle:\")\n",
    "print(coeffs)"
   ]
  },
  {
   "cell_type": "markdown",
   "metadata": {},
   "source": [
    "On peut voir que notre calcul est en ligne avec le résultat donné par la librarie statsmodel."
   ]
  },
  {
   "cell_type": "code",
   "execution_count": 20,
   "metadata": {
    "ExecuteTime": {
     "end_time": "2019-04-27T17:04:50.776966Z",
     "start_time": "2019-04-27T17:04:50.770789Z"
    }
   },
   "outputs": [],
   "source": [
    "# Standard error\n",
    "n = X.shape[0]\n",
    "sig2 = res.T @ res / (n - 7) # 6 variables + constant\n",
    "std = np.sqrt(np.diag(sig2 * np.linalg.inv(X.T @ X)))"
   ]
  },
  {
   "cell_type": "code",
   "execution_count": 21,
   "metadata": {
    "ExecuteTime": {
     "end_time": "2019-04-27T17:04:51.177724Z",
     "start_time": "2019-04-27T17:04:51.170529Z"
    }
   },
   "outputs": [
    {
     "name": "stdout",
     "output_type": "stream",
     "text": [
      "T-statistique pour le coeffiecient de la variable exper: 3.452\n"
     ]
    }
   ],
   "source": [
    "# t-statistc for variable exper\n",
    "coeff_exper = coeffs[3]\n",
    "std_exper = std[3]\n",
    "\n",
    "t_stat_exper = coeff_exper / std_exper\n",
    "print('T-statistique pour le coeffiecient de la variable exper:', round(t_stat_exper, 3))"
   ]
  },
  {
   "cell_type": "code",
   "execution_count": 22,
   "metadata": {
    "ExecuteTime": {
     "end_time": "2019-04-27T17:04:51.552168Z",
     "start_time": "2019-04-27T17:04:51.539831Z"
    }
   },
   "outputs": [
    {
     "name": "stdout",
     "output_type": "stream",
     "text": [
      "Quantiles de la distribution t-student:\n",
      "Two-sided 1%: 2.588\n",
      "Two-sided 5%: 1.966\n",
      "Two-sided 10%: 1.648\n"
     ]
    }
   ],
   "source": [
    "# t-student quantiles for two-sided 1%, 5% and 10%\n",
    "q1 = t.ppf(1 - 0.01/2, n-7)\n",
    "q5 = t.ppf(1 - 0.05/2, n-7)\n",
    "q10 = t.ppf(1 - 0.1/2, n-7)\n",
    "\n",
    "print('Quantiles de la distribution t-student:')\n",
    "print('Two-sided 1%:', round(q1, 3))\n",
    "print('Two-sided 5%:', round(q5, 3))\n",
    "print('Two-sided 10%:', round(q10, 3))"
   ]
  },
  {
   "cell_type": "code",
   "execution_count": 23,
   "metadata": {
    "ExecuteTime": {
     "end_time": "2019-04-27T17:04:51.851433Z",
     "start_time": "2019-04-27T17:04:51.841577Z"
    }
   },
   "outputs": [
    {
     "name": "stdout",
     "output_type": "stream",
     "text": [
      "P-value pour la variable exper: 0.00061\n"
     ]
    }
   ],
   "source": [
    "# P-value\n",
    "p_val_exper = 2*(1 - t.cdf(np.abs(t_stat_exper), n-7))\n",
    "print('P-value pour la variable exper:', round(p_val_exper, 5))"
   ]
  },
  {
   "cell_type": "markdown",
   "metadata": {},
   "source": [
    "On peut voir clairement que la valeur absolue de la T-statistique de la variable *exper* est supérieur à tous les quantiles de la distribution t-student que nous considérons ici (1%, 5% et 10% de confiance), alors on peut rejeter l'hypothèse de non-significativité de la variable *exper*. Cela est supporté par le fait que la p-value pour la variable *exper* est très petite, s'approchant de 0."
   ]
  },
  {
   "cell_type": "markdown",
   "metadata": {},
   "source": [
    "### 10. Tester l’hypothèse que le coefficient associé à educ est égal à 10% avec un seuil designificativité de 5% (test à alternatif des deux côtés)"
   ]
  },
  {
   "cell_type": "code",
   "execution_count": 24,
   "metadata": {
    "ExecuteTime": {
     "end_time": "2019-04-27T17:04:52.166846Z",
     "start_time": "2019-04-27T17:04:52.162046Z"
    }
   },
   "outputs": [],
   "source": [
    "# t-statistc for variable educ for a test if coeff == 0.1\n",
    "coeff_educ = coeffs[2]\n",
    "std_educ = std[2]\n",
    "\n",
    "t_stat_educ = (coeff_educ - 0.1) / std_educ"
   ]
  },
  {
   "cell_type": "code",
   "execution_count": 25,
   "metadata": {
    "ExecuteTime": {
     "end_time": "2019-04-27T17:04:52.492820Z",
     "start_time": "2019-04-27T17:04:52.487967Z"
    }
   },
   "outputs": [
    {
     "name": "stdout",
     "output_type": "stream",
     "text": [
      "T-statistique pour le coeffiecient de la variable educ: 0.149\n"
     ]
    }
   ],
   "source": [
    "print('T-statistique pour le coeffiecient de la variable educ:', round(t_stat_educ, 3))"
   ]
  },
  {
   "cell_type": "code",
   "execution_count": 26,
   "metadata": {
    "ExecuteTime": {
     "end_time": "2019-04-27T17:04:52.939055Z",
     "start_time": "2019-04-27T17:04:52.932821Z"
    }
   },
   "outputs": [
    {
     "name": "stdout",
     "output_type": "stream",
     "text": [
      "L'hypothèse que le coefficient associé à la variable educ soit égale à 0.1 N'EST PAS REJETEE\n"
     ]
    }
   ],
   "source": [
    "# Comparison with quantile for 5% two-sided test\n",
    "if np.abs(t_stat_educ) > q5:\n",
    "    print('L\\'hypothèse que le coefficient associé à la variable educ soit égale à 0.1 REJETEE')\n",
    "else:\n",
    "    print('L\\'hypothèse que le coefficient associé à la variable educ soit égale à 0.1 N\\'EST PAS REJETEE')"
   ]
  },
  {
   "cell_type": "markdown",
   "metadata": {},
   "source": [
    "Alors, sous un test de seuil avec significativité de 5% (two-sided) nous ne pouvons pas affirmer que le coefficient associé à la variable *educ* n'est pas égale à 10%."
   ]
  },
  {
   "cell_type": "markdown",
   "metadata": {},
   "source": [
    "### 11. Tester l’hypothèse jointe que le rendement de l’éducation est de 10% et que celui de l’expérience professionnelle est de 5%."
   ]
  },
  {
   "cell_type": "markdown",
   "metadata": {},
   "source": [
    "Ce test est equivalent au test suivant:\n",
    "\n",
    "$\\beta_{educ}^\\prime = 0$\n",
    "\n",
    "$\\beta_{exper}^\\prime = 0$\n",
    "\n",
    "Avec $\\beta_{educ}^\\prime = \\beta_{educ} - 0.1$ et $\\beta_{exper}^\\prime = \\beta_{exper} - 0.05$"
   ]
  },
  {
   "cell_type": "markdown",
   "metadata": {},
   "source": [
    "Pour cela il faut changer le modèle:\n",
    "\n",
    "$ y = \\beta_{const}*const + \\beta_{city}*city + \\beta_{educ}^\\prime*educ + \\beta_{exper}^\\prime*exper + \\beta_{nwifeinc}*nwifeinc + \\beta_{kidslt6}*kidslt6 + \\beta_{kidsge6}*kidsge6 $\n",
    "\n",
    "Avec $ y = lwage - 0.1*educ - 0.05*exper$ "
   ]
  },
  {
   "cell_type": "code",
   "execution_count": 27,
   "metadata": {
    "ExecuteTime": {
     "end_time": "2019-04-27T17:04:55.149723Z",
     "start_time": "2019-04-27T17:04:55.137417Z"
    }
   },
   "outputs": [],
   "source": [
    "# New variable to model\n",
    "y2 = y - 0.1*X[:,2] - 0.2*X[:,3]\n",
    "\n",
    "# Unrestricted model\n",
    "ur_model = sm.OLS(y2, X)\n",
    "ssr_ur = (ur_model.fit().resid**2).sum()\n",
    "\n",
    "# Restricted model\n",
    "r_model = sm.OLS(y2, np.concatenate((X[:,:2], X[:,4:]), axis=1))\n",
    "ssr_r = (r_model.fit().resid**2).sum()\n",
    "\n",
    "# F test\n",
    "F = ((ssr_r - ssr_ur) / 2)/(ssr_ur/(n-7))"
   ]
  },
  {
   "cell_type": "code",
   "execution_count": 28,
   "metadata": {
    "ExecuteTime": {
     "end_time": "2019-04-27T17:04:55.540861Z",
     "start_time": "2019-04-27T17:04:55.532231Z"
    }
   },
   "outputs": [
    {
     "name": "stdout",
     "output_type": "stream",
     "text": [
      "F-statistique: 845.595\n"
     ]
    }
   ],
   "source": [
    "print(\"F-statistique:\", round(F, 3))"
   ]
  },
  {
   "cell_type": "code",
   "execution_count": 29,
   "metadata": {
    "ExecuteTime": {
     "end_time": "2019-04-27T17:04:55.871313Z",
     "start_time": "2019-04-27T17:04:55.862808Z"
    }
   },
   "outputs": [
    {
     "name": "stdout",
     "output_type": "stream",
     "text": [
      "Quantile de la F-distribution pour un test à 5% de significativité: 3.017\n"
     ]
    }
   ],
   "source": [
    "# Quantile de la F-distribution pour un test à 5% de significativité\n",
    "qf = f.ppf(0.95, 2, n - 7)\n",
    "\n",
    "print(\"Quantile de la F-distribution pour un test à 5% de significativité:\", round(qf, 3))"
   ]
  },
  {
   "cell_type": "markdown",
   "metadata": {},
   "source": [
    "**Comme F > quantile, on rejète l'hypothèse jointe à un seuil de significativité de 5%**"
   ]
  },
  {
   "cell_type": "markdown",
   "metadata": {},
   "source": [
    "### 12. De combien augmente le salaire en pourcentage avec 10 années d’expérience ?"
   ]
  },
  {
   "cell_type": "code",
   "execution_count": 30,
   "metadata": {
    "ExecuteTime": {
     "end_time": "2019-04-27T17:04:56.982818Z",
     "start_time": "2019-04-27T17:04:56.978174Z"
    }
   },
   "outputs": [
    {
     "name": "stdout",
     "output_type": "stream",
     "text": [
      "Coefficient rélatif à l'expérience: 0.015\n"
     ]
    }
   ],
   "source": [
    "print(\"Coefficient rélatif à l'expérience:\", round(coeff_exper,3))"
   ]
  },
  {
   "cell_type": "markdown",
   "metadata": {},
   "source": [
    "Alors pour 10 années d'expérience la variable *log(wage)* augmente en 0.15\n",
    "\n",
    "Comme, pour le logarithme nous avons l'approximation: $\\Delta (\\log(x)) \\approx \\frac{\\Delta(x)}{x}$\n",
    "\n",
    "Cela veut dire que si *log(wage)* augmene en 0.15, la variable *wage* **augmente en 15%**."
   ]
  },
  {
   "cell_type": "markdown",
   "metadata": {},
   "source": [
    "### 13. Tester l’égalité des coefficients associés aux variables kidsgt6 et kidslt6. Interprétez."
   ]
  },
  {
   "cell_type": "code",
   "execution_count": 31,
   "metadata": {
    "ExecuteTime": {
     "end_time": "2019-04-27T17:04:58.330351Z",
     "start_time": "2019-04-27T17:04:58.317940Z"
    }
   },
   "outputs": [
    {
     "name": "stdout",
     "output_type": "stream",
     "text": [
      "F-statistique: 0.244\n"
     ]
    }
   ],
   "source": [
    "# Unrestricted model\n",
    "ur_model = sm.OLS(y, X)\n",
    "ssr_ur = (ur_model.fit().resid**2).sum()\n",
    "\n",
    "# Restricted model\n",
    "r_model = sm.OLS(y, X[:,:-2])\n",
    "ssr_r = (r_model.fit().resid**2).sum()\n",
    "\n",
    "# F-statistic\n",
    "F = ((ssr_r - ssr_ur) / 2)/(ssr_ur/(n-7))\n",
    "\n",
    "print(\"F-statistique:\", round(F, 3))"
   ]
  },
  {
   "cell_type": "markdown",
   "metadata": {},
   "source": [
    "Comme le quantile pour la distribution F avec 2 et n-7 degrées de liberté vaut 3.017 pour un seuil de significativité de 5% (calcul fait dans la question 11 ci-dessus), nous avons que F < quantile. \n",
    "\n",
    "Donc, nous ne pouvons pas réjeter l'hypothèse nulle $H_0: \\beta_{kidsgt6} = \\beta_{kidslt6}$ \n",
    "\n",
    "On peut alors conclure que ces coefficients sont significativement égaux et que le fait d'avoir des enfants de moins de 6 ans a le meme impact sur le salaire des femmes que le fait d'avoir des enfants de plus de 6 ans."
   ]
  },
  {
   "cell_type": "markdown",
   "metadata": {},
   "source": [
    "### 14. En utilisant le modèle de la question 7, faire le test d'hétéroscédasticité de forme linéaire en donnant la p-valeur. Corriger le problème par rapport à la variable la plus importante en utilisant la méthode des MCG. Comparer les écarts-types des coefficients estimés avec ceux obtenus à la question 7. Commenter."
   ]
  },
  {
   "cell_type": "code",
   "execution_count": 32,
   "metadata": {
    "ExecuteTime": {
     "end_time": "2019-04-27T17:04:59.681495Z",
     "start_time": "2019-04-27T17:04:59.664606Z"
    }
   },
   "outputs": [],
   "source": [
    "# Using the model from question 7\n",
    "X = sm.add_constant(df[['city', 'educ', 'exper', 'nwifeinc', 'kidslt6', 'kidsge6']])\n",
    "model = sm.OLS(df.wage, X)\n",
    "results = model.fit()"
   ]
  },
  {
   "cell_type": "markdown",
   "metadata": {},
   "source": [
    "**Test d'hétéroscédasticité:**"
   ]
  },
  {
   "cell_type": "markdown",
   "metadata": {},
   "source": [
    "Pour ce test, j'ai considéré la regression linéaire de $ \\log(u^2) $ sur les variables considérées pour la question 7."
   ]
  },
  {
   "cell_type": "code",
   "execution_count": 33,
   "metadata": {
    "ExecuteTime": {
     "end_time": "2019-04-27T17:05:01.173213Z",
     "start_time": "2019-04-27T17:05:00.653667Z"
    }
   },
   "outputs": [],
   "source": [
    "# Model on squared errors\n",
    "y = np.log(results.resid**2)\n",
    "\n",
    "# Unrestricted model\n",
    "ur_model = sm.OLS(y, X)\n",
    "ssr_ur = (ur_model.fit().resid**2).sum()\n",
    "\n",
    "# Restricted model --  Only on constant variable\n",
    "r_model = sm.OLS(y, X.const)\n",
    "ssr_r = (r_model.fit().resid**2).sum()"
   ]
  },
  {
   "cell_type": "code",
   "execution_count": 34,
   "metadata": {
    "ExecuteTime": {
     "end_time": "2019-04-27T17:05:01.557307Z",
     "start_time": "2019-04-27T17:05:01.547390Z"
    }
   },
   "outputs": [
    {
     "name": "stdout",
     "output_type": "stream",
     "text": [
      "F-statistique: 8.122\n"
     ]
    }
   ],
   "source": [
    "# F-statistic\n",
    "F = ((ssr_r - ssr_ur) / 6)/(ssr_ur/(n-7))\n",
    "print(\"F-statistique:\", round(F, 3))"
   ]
  },
  {
   "cell_type": "code",
   "execution_count": 35,
   "metadata": {
    "ExecuteTime": {
     "end_time": "2019-04-27T17:05:01.883300Z",
     "start_time": "2019-04-27T17:05:01.876949Z"
    }
   },
   "outputs": [
    {
     "name": "stdout",
     "output_type": "stream",
     "text": [
      "P-value pour le test d'hétéroscédasticité: 2.543406862898223e-08\n"
     ]
    }
   ],
   "source": [
    "# P-value\n",
    "p_value = 1 - f.cdf(F, 6, n-7)\n",
    "print('P-value pour le test d\\'hétéroscédasticité:', p_value)"
   ]
  },
  {
   "cell_type": "code",
   "execution_count": 36,
   "metadata": {
    "ExecuteTime": {
     "end_time": "2019-04-27T17:05:02.213617Z",
     "start_time": "2019-04-27T17:05:02.206964Z"
    }
   },
   "outputs": [
    {
     "name": "stdout",
     "output_type": "stream",
     "text": [
      "Quantile pour le test d'hétéroscédasticité: 2.12\n"
     ]
    }
   ],
   "source": [
    "# Quantile de la F-distribution pour un seuil de significativité de 5%\n",
    "qf = f.ppf(0.95, 6, n - 7)\n",
    "print(\"Quantile pour le test d\\'hétéroscédasticité:\", round(qf,3))"
   ]
  },
  {
   "cell_type": "markdown",
   "metadata": {},
   "source": [
    "Comme la F-statistique est supérieur au quantile et la p-value est très proche de zero, nous pouvons réjéter l'hypothèse nulle d'homoscédasticité."
   ]
  },
  {
   "cell_type": "markdown",
   "metadata": {},
   "source": [
    "**Correction de la hétéroscédasticité avec MCG faisables par rapport à la variable la plus importante:**"
   ]
  },
  {
   "cell_type": "code",
   "execution_count": 37,
   "metadata": {
    "ExecuteTime": {
     "end_time": "2019-04-27T17:05:02.578714Z",
     "start_time": "2019-04-27T17:05:02.547595Z"
    }
   },
   "outputs": [
    {
     "name": "stdout",
     "output_type": "stream",
     "text": [
      "                            OLS Regression Results                            \n",
      "==============================================================================\n",
      "Dep. Variable:                      y   R-squared:                       0.104\n",
      "Model:                            OLS   Adj. R-squared:                  0.091\n",
      "Method:                 Least Squares   F-statistic:                     8.122\n",
      "Date:                Sat, 27 Apr 2019   Prob (F-statistic):           2.54e-08\n",
      "Time:                        19:05:02   Log-Likelihood:                -946.24\n",
      "No. Observations:                 428   AIC:                             1906.\n",
      "Df Residuals:                     421   BIC:                             1935.\n",
      "Df Model:                           6                                         \n",
      "Covariance Type:            nonrobust                                         \n",
      "==============================================================================\n",
      "                 coef    std err          t      P>|t|      [0.025      0.975]\n",
      "------------------------------------------------------------------------------\n",
      "const         -2.9742      0.689     -4.319      0.000      -4.328      -1.621\n",
      "city           0.9308      0.233      3.988      0.000       0.472       1.390\n",
      "educ           0.1960      0.050      3.903      0.000       0.097       0.295\n",
      "exper         -0.0124      0.015     -0.829      0.407      -0.042       0.017\n",
      "nwifeinc       0.0087      0.011      0.785      0.433      -0.013       0.030\n",
      "kidslt6        0.3305      0.284      1.165      0.245      -0.227       0.888\n",
      "kidsge6        0.0338      0.090      0.378      0.706      -0.142       0.210\n",
      "==============================================================================\n",
      "Omnibus:                       99.963   Durbin-Watson:                   1.990\n",
      "Prob(Omnibus):                  0.000   Jarque-Bera (JB):              262.381\n",
      "Skew:                          -1.130   Prob(JB):                     1.06e-57\n",
      "Kurtosis:                       6.099   Cond. No.                         178.\n",
      "==============================================================================\n",
      "\n",
      "Warnings:\n",
      "[1] Standard Errors assume that the covariance matrix of the errors is correctly specified.\n"
     ]
    }
   ],
   "source": [
    "# Running regression to find the most important variable\n",
    "\n",
    "results = ur_model.fit()\n",
    "print(results.summary())"
   ]
  },
  {
   "cell_type": "markdown",
   "metadata": {},
   "source": [
    "On peut voir que la variable la plus importante est la variable city. On doit alors *\"fitter\"* la regréssion aux données en utilisant cette variable seulement."
   ]
  },
  {
   "cell_type": "code",
   "execution_count": 38,
   "metadata": {
    "ExecuteTime": {
     "end_time": "2019-04-27T17:05:02.922351Z",
     "start_time": "2019-04-27T17:05:02.903129Z"
    }
   },
   "outputs": [],
   "source": [
    "beta_city = results.params[1]\n",
    "beta_const = results.params[0]\n",
    "beta = np.array([beta_const, beta_city])\n",
    "\n",
    "X = np.array(sm.add_constant(df[['city']]))\n",
    "\n",
    "g = X @ beta\n",
    "\n",
    "h = np.exp(g)\n",
    "\n",
    "weights = 1 / h"
   ]
  },
  {
   "cell_type": "markdown",
   "metadata": {},
   "source": [
    "**Nouvelle régression avec la correction:**"
   ]
  },
  {
   "cell_type": "code",
   "execution_count": 39,
   "metadata": {
    "ExecuteTime": {
     "end_time": "2019-04-27T17:05:03.753936Z",
     "start_time": "2019-04-27T17:05:03.724639Z"
    }
   },
   "outputs": [
    {
     "name": "stdout",
     "output_type": "stream",
     "text": [
      "                            OLS Regression Results                            \n",
      "==============================================================================\n",
      "Dep. Variable:                   wage   R-squared:                       0.281\n",
      "Model:                            OLS   Adj. R-squared:                  0.271\n",
      "Method:                 Least Squares   F-statistic:                     27.45\n",
      "Date:                Sat, 27 Apr 2019   Prob (F-statistic):           1.20e-27\n",
      "Time:                        19:05:03   Log-Likelihood:                -176.26\n",
      "No. Observations:                 428   AIC:                             366.5\n",
      "Df Residuals:                     421   BIC:                             394.9\n",
      "Df Model:                           6                                         \n",
      "Covariance Type:            nonrobust                                         \n",
      "==============================================================================\n",
      "                 coef    std err          t      P>|t|      [0.025      0.975]\n",
      "------------------------------------------------------------------------------\n",
      "x1            -3.0325      1.166     -2.601      0.010      -5.324      -0.741\n",
      "x2             0.3880      0.614      0.632      0.527      -0.818       1.594\n",
      "x3             0.5076      0.077      6.553      0.000       0.355       0.660\n",
      "x4             0.0262      0.023      1.125      0.261      -0.020       0.072\n",
      "x5             0.0084      0.017      0.503      0.615      -0.025       0.041\n",
      "x6             0.1102      0.421      0.262      0.794      -0.718       0.939\n",
      "x7             0.0139      0.143      0.097      0.923      -0.268       0.296\n",
      "==============================================================================\n",
      "Omnibus:                      383.545   Durbin-Watson:                   2.031\n",
      "Prob(Omnibus):                  0.000   Jarque-Bera (JB):            10724.913\n",
      "Skew:                           3.787   Prob(JB):                         0.00\n",
      "Kurtosis:                      26.324   Cond. No.                         211.\n",
      "==============================================================================\n",
      "\n",
      "Warnings:\n",
      "[1] Standard Errors assume that the covariance matrix of the errors is correctly specified.\n"
     ]
    }
   ],
   "source": [
    "y = df.wage / weights\n",
    "\n",
    "X = np.array(sm.add_constant(df[['city', 'educ', 'exper', 'nwifeinc', 'kidslt6', 'kidsge6']])) / weights.reshape(-1,1)\n",
    "\n",
    "model = sm.OLS(y, X)\n",
    "results = model.fit()\n",
    "\n",
    "print(results.summary())"
   ]
  },
  {
   "cell_type": "markdown",
   "metadata": {},
   "source": [
    "### 15. Tester le changement de structure de la question 8 entre les femmes qui ont moins de 30 ans, entre 30 et 43 ans, plus de 43 ans (3 groupes mutuellement exclusifs). Donnez les p-valeurs."
   ]
  },
  {
   "cell_type": "markdown",
   "metadata": {},
   "source": [
    "**Split des trois groupes:**"
   ]
  },
  {
   "cell_type": "code",
   "execution_count": 40,
   "metadata": {
    "ExecuteTime": {
     "end_time": "2019-04-27T17:05:05.990423Z",
     "start_time": "2019-04-27T17:05:05.979116Z"
    }
   },
   "outputs": [],
   "source": [
    "df1 = df[df.age < 30]\n",
    "df2 = df[(df.age >= 30) & (df.age <= 43)]\n",
    "df3 = df[df.age > 43]"
   ]
  },
  {
   "cell_type": "markdown",
   "metadata": {},
   "source": [
    "**1er groupe:**"
   ]
  },
  {
   "cell_type": "code",
   "execution_count": 41,
   "metadata": {
    "ExecuteTime": {
     "end_time": "2019-04-27T17:05:07.118811Z",
     "start_time": "2019-04-27T17:05:07.095919Z"
    }
   },
   "outputs": [
    {
     "data": {
      "text/html": [
       "<div>\n",
       "<style scoped>\n",
       "    .dataframe tbody tr th:only-of-type {\n",
       "        vertical-align: middle;\n",
       "    }\n",
       "\n",
       "    .dataframe tbody tr th {\n",
       "        vertical-align: top;\n",
       "    }\n",
       "\n",
       "    .dataframe thead th {\n",
       "        text-align: right;\n",
       "    }\n",
       "</style>\n",
       "<table border=\"1\" class=\"dataframe\">\n",
       "  <thead>\n",
       "    <tr style=\"text-align: right;\">\n",
       "      <th></th>\n",
       "      <th>inlf</th>\n",
       "      <th>hours</th>\n",
       "      <th>kidslt6</th>\n",
       "      <th>kidsge6</th>\n",
       "      <th>age</th>\n",
       "      <th>educ</th>\n",
       "      <th>wage</th>\n",
       "      <th>repwage</th>\n",
       "      <th>hushrs</th>\n",
       "      <th>husage</th>\n",
       "      <th>...</th>\n",
       "      <th>faminc</th>\n",
       "      <th>mtr</th>\n",
       "      <th>motheduc</th>\n",
       "      <th>fatheduc</th>\n",
       "      <th>unem</th>\n",
       "      <th>city</th>\n",
       "      <th>exper</th>\n",
       "      <th>nwifeinc</th>\n",
       "      <th>lwage</th>\n",
       "      <th>expersq</th>\n",
       "    </tr>\n",
       "  </thead>\n",
       "  <tbody>\n",
       "  </tbody>\n",
       "</table>\n",
       "<p>0 rows × 22 columns</p>\n",
       "</div>"
      ],
      "text/plain": [
       "Empty DataFrame\n",
       "Columns: [inlf, hours, kidslt6, kidsge6, age, educ, wage, repwage, hushrs, husage, huseduc, huswage, faminc, mtr, motheduc, fatheduc, unem, city, exper, nwifeinc, lwage, expersq]\n",
       "Index: []\n",
       "\n",
       "[0 rows x 22 columns]"
      ]
     },
     "execution_count": 41,
     "metadata": {},
     "output_type": "execute_result"
    }
   ],
   "source": [
    "df1.head()"
   ]
  },
  {
   "cell_type": "code",
   "execution_count": 42,
   "metadata": {
    "ExecuteTime": {
     "end_time": "2019-04-27T17:05:07.834213Z",
     "start_time": "2019-04-27T17:05:07.827786Z"
    }
   },
   "outputs": [
    {
     "data": {
      "text/plain": [
       "30"
      ]
     },
     "execution_count": 42,
     "metadata": {},
     "output_type": "execute_result"
    }
   ],
   "source": [
    "df.age.min()"
   ]
  },
  {
   "cell_type": "markdown",
   "metadata": {},
   "source": [
    "Nous pouvons remarquer que le 1er groupe (femmes qui ont moins de 30 ans) est vide."
   ]
  },
  {
   "cell_type": "markdown",
   "metadata": {},
   "source": [
    "**Regression pour le 2ème groupe:**"
   ]
  },
  {
   "cell_type": "code",
   "execution_count": 43,
   "metadata": {
    "ExecuteTime": {
     "end_time": "2019-04-27T17:05:08.503305Z",
     "start_time": "2019-04-27T17:05:08.473193Z"
    }
   },
   "outputs": [
    {
     "name": "stdout",
     "output_type": "stream",
     "text": [
      "                            OLS Regression Results                            \n",
      "==============================================================================\n",
      "Dep. Variable:                  lwage   R-squared:                       0.168\n",
      "Model:                            OLS   Adj. R-squared:                  0.146\n",
      "Method:                 Least Squares   F-statistic:                     7.888\n",
      "Date:                Sat, 27 Apr 2019   Prob (F-statistic):           9.37e-08\n",
      "Time:                        19:05:08   Log-Likelihood:                -248.69\n",
      "No. Observations:                 242   AIC:                             511.4\n",
      "Df Residuals:                     235   BIC:                             535.8\n",
      "Df Model:                           6                                         \n",
      "Covariance Type:            nonrobust                                         \n",
      "==============================================================================\n",
      "                 coef    std err          t      P>|t|      [0.025      0.975]\n",
      "------------------------------------------------------------------------------\n",
      "const         -0.5412      0.318     -1.702      0.090      -1.168       0.085\n",
      "city           0.0850      0.092      0.920      0.358      -0.097       0.267\n",
      "educ           0.1167      0.023      5.038      0.000       0.071       0.162\n",
      "exper          0.0202      0.008      2.540      0.012       0.005       0.036\n",
      "nwifeinc       0.0026      0.005      0.526      0.599      -0.007       0.012\n",
      "kidslt6       -0.0933      0.094     -0.994      0.321      -0.278       0.092\n",
      "kidsge6       -0.0233      0.036     -0.643      0.521      -0.095       0.048\n",
      "==============================================================================\n",
      "Omnibus:                       42.575   Durbin-Watson:                   1.807\n",
      "Prob(Omnibus):                  0.000   Jarque-Bera (JB):              145.224\n",
      "Skew:                          -0.684   Prob(JB):                     2.92e-32\n",
      "Kurtosis:                       6.540   Cond. No.                         186.\n",
      "==============================================================================\n",
      "\n",
      "Warnings:\n",
      "[1] Standard Errors assume that the covariance matrix of the errors is correctly specified.\n"
     ]
    }
   ],
   "source": [
    "X = sm.add_constant(df2[['city', 'educ', 'exper', 'nwifeinc', 'kidslt6', 'kidsge6']])\n",
    "model_log = sm.OLS(df2.lwage.apply(float), X)\n",
    "results_log = model_log.fit()\n",
    "\n",
    "print(results_log.summary())"
   ]
  },
  {
   "cell_type": "code",
   "execution_count": 44,
   "metadata": {
    "ExecuteTime": {
     "end_time": "2019-04-27T17:05:08.952009Z",
     "start_time": "2019-04-27T17:05:08.945456Z"
    }
   },
   "outputs": [
    {
     "name": "stdout",
     "output_type": "stream",
     "text": [
      "P-values des coefficients de la régression pour le 2ème groupe:\n",
      "const       9.012661e-02\n",
      "city        3.584252e-01\n",
      "educ        9.375604e-07\n",
      "exper       1.173559e-02\n",
      "nwifeinc    5.991599e-01\n",
      "kidslt6     3.212302e-01\n",
      "kidsge6     5.211483e-01\n",
      "dtype: float64\n"
     ]
    }
   ],
   "source": [
    "# P-values\n",
    "print(\"P-values des coefficients de la régression pour le 2ème groupe:\")\n",
    "print(results_log.pvalues)"
   ]
  },
  {
   "cell_type": "markdown",
   "metadata": {},
   "source": [
    "**Regression pour le 3ème groupe:**"
   ]
  },
  {
   "cell_type": "code",
   "execution_count": 45,
   "metadata": {
    "ExecuteTime": {
     "end_time": "2019-04-27T17:05:09.390613Z",
     "start_time": "2019-04-27T17:05:09.352000Z"
    }
   },
   "outputs": [
    {
     "name": "stdout",
     "output_type": "stream",
     "text": [
      "                            OLS Regression Results                            \n",
      "==============================================================================\n",
      "Dep. Variable:                  lwage   R-squared:                       0.166\n",
      "Model:                            OLS   Adj. R-squared:                  0.138\n",
      "Method:                 Least Squares   F-statistic:                     5.925\n",
      "Date:                Sat, 27 Apr 2019   Prob (F-statistic):           1.15e-05\n",
      "Time:                        19:05:09   Log-Likelihood:                -179.89\n",
      "No. Observations:                 186   AIC:                             373.8\n",
      "Df Residuals:                     179   BIC:                             396.4\n",
      "Df Model:                           6                                         \n",
      "Covariance Type:            nonrobust                                         \n",
      "==============================================================================\n",
      "                 coef    std err          t      P>|t|      [0.025      0.975]\n",
      "------------------------------------------------------------------------------\n",
      "const         -0.3232      0.276     -1.173      0.242      -0.867       0.221\n",
      "city          -0.0188      0.110     -0.171      0.865      -0.236       0.199\n",
      "educ           0.0853      0.020      4.228      0.000       0.045       0.125\n",
      "exper          0.0178      0.006      3.047      0.003       0.006       0.029\n",
      "nwifeinc       0.0093      0.005      1.957      0.052   -7.71e-05       0.019\n",
      "kidslt6       -0.0091      0.332     -0.027      0.978      -0.664       0.646\n",
      "kidsge6       -0.0249      0.051     -0.487      0.627      -0.126       0.076\n",
      "==============================================================================\n",
      "Omnibus:                       37.611   Durbin-Watson:                   2.352\n",
      "Prob(Omnibus):                  0.000   Jarque-Bera (JB):              114.134\n",
      "Skew:                          -0.787   Prob(JB):                     1.64e-25\n",
      "Kurtosis:                       6.500   Cond. No.                         212.\n",
      "==============================================================================\n",
      "\n",
      "Warnings:\n",
      "[1] Standard Errors assume that the covariance matrix of the errors is correctly specified.\n"
     ]
    }
   ],
   "source": [
    "X = sm.add_constant(df3[['city', 'educ', 'exper', 'nwifeinc', 'kidslt6', 'kidsge6']])\n",
    "model_log = sm.OLS(df3.lwage.apply(float), X)\n",
    "results_log = model_log.fit()\n",
    "\n",
    "print(results_log.summary())"
   ]
  },
  {
   "cell_type": "code",
   "execution_count": 46,
   "metadata": {
    "ExecuteTime": {
     "end_time": "2019-04-27T17:05:09.757329Z",
     "start_time": "2019-04-27T17:05:09.750474Z"
    }
   },
   "outputs": [
    {
     "name": "stdout",
     "output_type": "stream",
     "text": [
      "P-values des coefficients de la régression pour le 3ème groupe:\n",
      "const       0.242448\n",
      "city        0.864526\n",
      "educ        0.000038\n",
      "exper       0.002665\n",
      "nwifeinc    0.051898\n",
      "kidslt6     0.978104\n",
      "kidsge6     0.627090\n",
      "dtype: float64\n"
     ]
    }
   ],
   "source": [
    "# P-values\n",
    "print(\"P-values des coefficients de la régression pour le 3ème groupe:\")\n",
    "print(results_log.pvalues)"
   ]
  },
  {
   "cell_type": "markdown",
   "metadata": {},
   "source": [
    "### 16. A partir de la variable kidslt6, créer un ensemble de variables binaires pour le nombre d’enfants de moins de 6 ans. Refaire la question 8 avec ces variables et en utilisant comme référence les femmes qui ont des enfants de plus de 6 ans. Ces catégories sont-elles mutuellement exclusives ? Interprétez les paramètres associés aux variables binaires. Faire le test de non significativité de l’ensemble des variables binaires. Donnez les p-valeurs"
   ]
  },
  {
   "cell_type": "code",
   "execution_count": 47,
   "metadata": {
    "ExecuteTime": {
     "end_time": "2019-04-27T17:05:10.206653Z",
     "start_time": "2019-04-27T17:05:10.116982Z"
    }
   },
   "outputs": [],
   "source": [
    "# Création de l'ensemble de variables binaires\n",
    "for n_child in range(0, df.kidslt6.max()+1):\n",
    "    var_name = 'kidslt6_bin' + str(n_child)\n",
    "    df[var_name] = df.kidslt6.apply(lambda x: float(x == n_child))"
   ]
  },
  {
   "cell_type": "code",
   "execution_count": 48,
   "metadata": {
    "ExecuteTime": {
     "end_time": "2019-04-27T17:05:10.632575Z",
     "start_time": "2019-04-27T17:05:10.620692Z"
    }
   },
   "outputs": [],
   "source": [
    "# Séparer les deux groupes\n",
    "df1 = df[df.kidsge6 > 0]\n",
    "df2 = df[df.kidsge6 == 0]"
   ]
  },
  {
   "cell_type": "markdown",
   "metadata": {},
   "source": [
    "Les deux catégories ne sont pas mutuellement exclusives. Par exemple, dans le groupe des femmes qui ont des enfants de plus de 6 ans (df1) on peut trouver des femmes qui ont des enfants avec moins 6 ans.\n",
    "\n",
    "Voici un exemple ci-dessous:"
   ]
  },
  {
   "cell_type": "code",
   "execution_count": 49,
   "metadata": {
    "ExecuteTime": {
     "end_time": "2019-04-27T17:05:11.620327Z",
     "start_time": "2019-04-27T17:05:11.608564Z"
    }
   },
   "outputs": [
    {
     "data": {
      "text/plain": [
       "1.0"
      ]
     },
     "execution_count": 49,
     "metadata": {},
     "output_type": "execute_result"
    }
   ],
   "source": [
    "df1.kidslt6_bin1[2]"
   ]
  },
  {
   "cell_type": "markdown",
   "metadata": {},
   "source": [
    "**Régression pour le groupe des femmes qui ont des enfants de plus de 6 ans:**"
   ]
  },
  {
   "cell_type": "markdown",
   "metadata": {},
   "source": [
    "A fin d'éviter des problems de colinéarité, nous devons faire un regression seulement sur *kidslt6_bin1* et *kidslt6_bin2*, car selon notre constrution de variables binaires on a $ kidslt6\\_bin0 + kidslt6\\_bin1 + kidslt6\\_bin2 = 1 $. Cela nous amenerait à un problème de colinéarité entre les variables. "
   ]
  },
  {
   "cell_type": "code",
   "execution_count": 50,
   "metadata": {
    "ExecuteTime": {
     "end_time": "2019-04-27T17:05:16.328503Z",
     "start_time": "2019-04-27T17:05:16.297879Z"
    }
   },
   "outputs": [
    {
     "name": "stdout",
     "output_type": "stream",
     "text": [
      "                            OLS Regression Results                            \n",
      "==============================================================================\n",
      "Dep. Variable:                  lwage   R-squared:                       0.128\n",
      "Model:                            OLS   Adj. R-squared:                  0.105\n",
      "Method:                 Least Squares   F-statistic:                     5.666\n",
      "Date:                Sat, 27 Apr 2019   Prob (F-statistic):           4.02e-06\n",
      "Time:                        19:05:16   Log-Likelihood:                -292.12\n",
      "No. Observations:                 279   AIC:                             600.2\n",
      "Df Residuals:                     271   BIC:                             629.3\n",
      "Df Model:                           7                                         \n",
      "Covariance Type:            nonrobust                                         \n",
      "================================================================================\n",
      "                   coef    std err          t      P>|t|      [0.025      0.975]\n",
      "--------------------------------------------------------------------------------\n",
      "const           -0.2761      0.298     -0.927      0.355      -0.862       0.310\n",
      "city             0.0804      0.091      0.884      0.377      -0.099       0.259\n",
      "educ             0.0900      0.021      4.201      0.000       0.048       0.132\n",
      "exper            0.0215      0.007      3.141      0.002       0.008       0.035\n",
      "nwifeinc         0.0023      0.004      0.529      0.597      -0.006       0.011\n",
      "kidsge6         -0.0116      0.041     -0.285      0.776      -0.092       0.068\n",
      "kidslt6_bin1    -0.0891      0.130     -0.686      0.494      -0.345       0.167\n",
      "kidslt6_bin2    -0.1547      0.357     -0.434      0.665      -0.857       0.548\n",
      "==============================================================================\n",
      "Omnibus:                       62.276   Durbin-Watson:                   1.822\n",
      "Prob(Omnibus):                  0.000   Jarque-Bera (JB):              242.459\n",
      "Skew:                          -0.874   Prob(JB):                     2.24e-53\n",
      "Kurtosis:                       7.219   Cond. No.                         233.\n",
      "==============================================================================\n",
      "\n",
      "Warnings:\n",
      "[1] Standard Errors assume that the covariance matrix of the errors is correctly specified.\n"
     ]
    }
   ],
   "source": [
    "X = sm.add_constant(df1[['city', 'educ', 'exper', 'nwifeinc', 'kidsge6', 'kidslt6_bin1', 'kidslt6_bin2']])\n",
    "model_log = sm.OLS(df1.lwage.apply(float), X)\n",
    "results_log = model_log.fit()\n",
    "\n",
    "print(results_log.summary())"
   ]
  },
  {
   "cell_type": "markdown",
   "metadata": {},
   "source": [
    "On peut remarquer que les coefficient des variables kidslt6_bin1 (1 enfant de moins de 6 ans) et kidslt6_bin2 (2 enfants de moins de 6 ans) sont négatives. Ce qui montre l'impacte négative d'avoir au moins un efant de moins de 6 ans sur le salaire de la femme. En plus, comme attendu, le fait d'avoir 2 enfants de moins de 6 ans est plus impactant que le fait d'avoir un seul enfant de moins de 6 ans."
   ]
  },
  {
   "cell_type": "markdown",
   "metadata": {},
   "source": [
    "**Test de significativité:**"
   ]
  },
  {
   "cell_type": "code",
   "execution_count": 51,
   "metadata": {
    "ExecuteTime": {
     "end_time": "2019-04-27T17:05:25.127327Z",
     "start_time": "2019-04-27T17:05:25.122414Z"
    }
   },
   "outputs": [],
   "source": [
    "# t-student quantiles for two-sided 5% with 7 variables\n",
    "q = t.ppf(1 - 0.05/2, n-8)"
   ]
  },
  {
   "cell_type": "code",
   "execution_count": 52,
   "metadata": {
    "ExecuteTime": {
     "end_time": "2019-04-27T17:05:25.661947Z",
     "start_time": "2019-04-27T17:05:25.653610Z"
    }
   },
   "outputs": [
    {
     "name": "stdout",
     "output_type": "stream",
     "text": [
      "On ne rejette pas l'hypothèse nulle pour la variable kidslt6_bin1\n",
      "On ne rejette pas l'hypothèse nulle pour la variable kidslt6_bin2\n"
     ]
    }
   ],
   "source": [
    "# Test\n",
    "for var in ['kidslt6_bin1', 'kidslt6_bin2']:\n",
    "    t_stat = results_log.tvalues[var]\n",
    "    if t_stat > q:\n",
    "        print(\"On rejette l'hypothèse nulle pour la variable\", var)\n",
    "    else:\n",
    "        print(\"On ne rejette pas l'hypothèse nulle pour la variable\", var)"
   ]
  },
  {
   "cell_type": "markdown",
   "metadata": {},
   "source": [
    "**P-values:**"
   ]
  },
  {
   "cell_type": "code",
   "execution_count": 53,
   "metadata": {
    "ExecuteTime": {
     "end_time": "2019-04-27T17:05:26.173195Z",
     "start_time": "2019-04-27T17:05:26.162053Z"
    }
   },
   "outputs": [
    {
     "name": "stdout",
     "output_type": "stream",
     "text": [
      "P-value for variable kidslt6_bin1: 0.494\n",
      "P-value for variable kidslt6_bin2: 0.665\n"
     ]
    }
   ],
   "source": [
    "for var in ['kidslt6_bin1', 'kidslt6_bin2']:\n",
    "    print(\"P-value for variable {}:\".format(var), round(results_log.pvalues[var],3))"
   ]
  },
  {
   "cell_type": "markdown",
   "metadata": {},
   "source": [
    "Les valeurs assez élevées des p-values supportent le résultat du test de significativité ci-dessus: nous ne rejetons pas l'hypothèse nulle de que les coefficients des variable kidslt6_bin1 et kidslt6_bin2 sont vallent 0."
   ]
  },
  {
   "cell_type": "markdown",
   "metadata": {},
   "source": [
    "### 17. A partir de l’échantillon global, faire une régression de inlf sur une constante, city, educ, age, kidslt6, kidsgt6. Interprétez les coefficients estimés."
   ]
  },
  {
   "cell_type": "code",
   "execution_count": 54,
   "metadata": {
    "ExecuteTime": {
     "end_time": "2019-04-27T17:05:26.643922Z",
     "start_time": "2019-04-27T17:05:26.621940Z"
    }
   },
   "outputs": [],
   "source": [
    "# Reloading dataframe global\n",
    "df = pd.read_csv('MROZ.raw', sep='\\s+', header= None)\n",
    "df = df.rename(columns={0:'inlf',\n",
    "                      1:'hours',\n",
    "                     2:'kidslt6',\n",
    "                     3:'kidsge6',\n",
    "                     4:'age',\n",
    "                     5:'educ',\n",
    "                     6:'wage',\n",
    "                     7:'repwage',\n",
    "                     8:'hushrs',\n",
    "                     9:'husage',\n",
    "                     10:'huseduc',\n",
    "                     11:'huswage',\n",
    "                     12:'faminc',\n",
    "                     13:'mtr',\n",
    "                     14:'motheduc',\n",
    "                     15:'fatheduc',\n",
    "                     16:'unem',\n",
    "                     17:'city',\n",
    "                     18:'exper',\n",
    "                     19:'nwifeinc',\n",
    "                     20:'lwage',\n",
    "                     21:'expersq'})"
   ]
  },
  {
   "cell_type": "code",
   "execution_count": 55,
   "metadata": {
    "ExecuteTime": {
     "end_time": "2019-04-27T17:05:27.123139Z",
     "start_time": "2019-04-27T17:05:27.091256Z"
    }
   },
   "outputs": [
    {
     "name": "stdout",
     "output_type": "stream",
     "text": [
      "                            OLS Regression Results                            \n",
      "==============================================================================\n",
      "Dep. Variable:                   inlf   R-squared:                       0.124\n",
      "Model:                            OLS   Adj. R-squared:                  0.118\n",
      "Method:                 Least Squares   F-statistic:                     21.20\n",
      "Date:                Sat, 27 Apr 2019   Prob (F-statistic):           7.29e-20\n",
      "Time:                        19:05:27   Log-Likelihood:                -489.44\n",
      "No. Observations:                 753   AIC:                             990.9\n",
      "Df Residuals:                     747   BIC:                             1019.\n",
      "Df Model:                           5                                         \n",
      "Covariance Type:            nonrobust                                         \n",
      "==============================================================================\n",
      "                 coef    std err          t      P>|t|      [0.025      0.975]\n",
      "------------------------------------------------------------------------------\n",
      "const          0.7076      0.162      4.365      0.000       0.389       1.026\n",
      "city          -0.0341      0.036     -0.944      0.346      -0.105       0.037\n",
      "educ           0.0434      0.008      5.656      0.000       0.028       0.058\n",
      "age           -0.0130      0.003     -5.081      0.000      -0.018      -0.008\n",
      "kidslt6       -0.3075      0.036     -8.498      0.000      -0.378      -0.236\n",
      "kidsge6       -0.0173      0.014     -1.231      0.219      -0.045       0.010\n",
      "==============================================================================\n",
      "Omnibus:                        7.463   Durbin-Watson:                   0.246\n",
      "Prob(Omnibus):                  0.024   Jarque-Bera (JB):               76.244\n",
      "Skew:                          -0.245   Prob(JB):                     2.78e-17\n",
      "Kurtosis:                       1.520   Cond. No.                         432.\n",
      "==============================================================================\n",
      "\n",
      "Warnings:\n",
      "[1] Standard Errors assume that the covariance matrix of the errors is correctly specified.\n"
     ]
    }
   ],
   "source": [
    "# Creating dataframe with constant to be fed to OLS model\n",
    "X = sm.add_constant(df[['city', 'educ',  'age', 'kidslt6', 'kidsge6']])\n",
    "model = sm.OLS(df.inlf, X)\n",
    "results = model.fit()\n",
    "\n",
    "print(results.summary())"
   ]
  },
  {
   "cell_type": "markdown",
   "metadata": {},
   "source": [
    "En analysant les coefficients resultants de la régression, nous pouvons en conclure qui, comme attendu, l'education a un impact positif sur le fait que la femme sera partie de la *workforce* alors que l'age et le fait d'avoir des enfants a un impact négatif. Aussi comme atendu, l'impact négatif d'avoir des enfants de plus de 6 ans est inférieur (en valeur absolue) à l'impact négatif d'avoir des enfant de moins de 6 ans. \n",
    "\n",
    "En contrepartie, le fait d'habiter dans une zonne métropolitaine, étonnament, a un impact négatif sur le fait que que la femme sera partie de la *workforce*. "
   ]
  },
  {
   "cell_type": "markdown",
   "metadata": {},
   "source": [
    "### 18. Estimer le modèle probit de inlf sur une constante, city, educ, age, kidslt6, kidsgt6. Faire le test de non significativité jointes des coefficients associés à kidslt6 et à kidsgt6. Comparez le résultat du test à celuir de la question 18 (??)."
   ]
  },
  {
   "cell_type": "code",
   "execution_count": 56,
   "metadata": {
    "ExecuteTime": {
     "end_time": "2019-04-27T17:05:33.875048Z",
     "start_time": "2019-04-27T17:05:33.838517Z"
    },
    "scrolled": true
   },
   "outputs": [
    {
     "name": "stdout",
     "output_type": "stream",
     "text": [
      "Optimization terminated successfully.\n",
      "         Current function value: 0.617205\n",
      "         Iterations 5\n",
      "                          Probit Regression Results                           \n",
      "==============================================================================\n",
      "Dep. Variable:                   inlf   No. Observations:                  753\n",
      "Model:                         Probit   Df Residuals:                      747\n",
      "Method:                           MLE   Df Model:                            5\n",
      "Date:                Sat, 27 Apr 2019   Pseudo R-squ.:                 0.09734\n",
      "Time:                        19:05:33   Log-Likelihood:                -464.76\n",
      "converged:                       True   LL-Null:                       -514.87\n",
      "                                        LLR p-value:                 4.714e-20\n",
      "==============================================================================\n",
      "                 coef    std err          z      P>|z|      [0.025      0.975]\n",
      "------------------------------------------------------------------------------\n",
      "const          0.6050      0.467      1.297      0.195      -0.309       1.520\n",
      "city          -0.0863      0.102     -0.842      0.400      -0.287       0.115\n",
      "educ           0.1234      0.023      5.469      0.000       0.079       0.168\n",
      "age           -0.0375      0.007     -5.008      0.000      -0.052      -0.023\n",
      "kidslt6       -0.8846      0.112     -7.882      0.000      -1.105      -0.665\n",
      "kidsge6       -0.0542      0.040     -1.351      0.177      -0.133       0.024\n",
      "==============================================================================\n"
     ]
    }
   ],
   "source": [
    "# Probit model:\n",
    "# Creating dataframe with constant to be fed to OLS model\n",
    "model = sm.Probit(df.inlf, X)\n",
    "results_prob = model.fit()\n",
    "\n",
    "print(results_prob.summary())"
   ]
  },
  {
   "cell_type": "markdown",
   "metadata": {},
   "source": [
    "**Test de significativité jointe des coefficients associés à kidslt6 et à kidsgt6:**"
   ]
  },
  {
   "cell_type": "code",
   "execution_count": 68,
   "metadata": {
    "ExecuteTime": {
     "end_time": "2019-04-27T17:23:58.297398Z",
     "start_time": "2019-04-27T17:23:58.290110Z"
    }
   },
   "outputs": [
    {
     "name": "stdout",
     "output_type": "stream",
     "text": [
      "F-statistique: 31.128\n"
     ]
    }
   ],
   "source": [
    "hip0 = '(kidslt6 = 0),(kidsge6 = 0)' # hypothèse nulle\n",
    "f_test = results_prob.f_test(hip0)\n",
    "print('F-statistique:', round(f_test.fvalue[0][0], 3))"
   ]
  },
  {
   "cell_type": "code",
   "execution_count": 69,
   "metadata": {
    "ExecuteTime": {
     "end_time": "2019-04-27T17:24:00.502071Z",
     "start_time": "2019-04-27T17:24:00.494450Z"
    }
   },
   "outputs": [
    {
     "name": "stdout",
     "output_type": "stream",
     "text": [
      "Quantile: 3.017\n"
     ]
    }
   ],
   "source": [
    "# Compute quantile de la F-distribution pour 95% de certitude\n",
    "qf = f.ppf(0.95, 2, n - 7)\n",
    "print('Quantile:', round(qf,3))"
   ]
  },
  {
   "cell_type": "markdown",
   "metadata": {},
   "source": [
    "Comme la F-statistique est supérieur au quantile, l'hypotèse nulle est réjetée."
   ]
  },
  {
   "cell_type": "markdown",
   "metadata": {},
   "source": [
    "En utilisant ce model, on arrive à la conclusion qu'avec 95% de certitude l'impacte d'avoir un enfant, quelque ce soit son age entre 0 et 18 est non-négligeable."
   ]
  },
  {
   "cell_type": "markdown",
   "metadata": {},
   "source": [
    "### 19. Calculer les effets partiels pour l'ensemble des variables explicatives. Comparer vos résultats à ceux obtenus à la question 17. Commentez."
   ]
  },
  {
   "cell_type": "code",
   "execution_count": 61,
   "metadata": {
    "ExecuteTime": {
     "end_time": "2019-04-26T07:33:26.766021Z",
     "start_time": "2019-04-26T07:33:26.757491Z"
    }
   },
   "outputs": [
    {
     "name": "stdout",
     "output_type": "stream",
     "text": [
      "Effets partiels pour l'ensemble des variables explicatives:\n",
      "\n",
      "const      0.605037\n",
      "city      -0.086317\n",
      "educ       0.123400\n",
      "age       -0.037540\n",
      "kidslt6   -0.884639\n",
      "kidsge6   -0.054234\n",
      "dtype: float64\n"
     ]
    }
   ],
   "source": [
    "print(\"Effets partiels pour l'ensemble des variables explicatives:\\n\")\n",
    "print(results_prob.params)"
   ]
  },
  {
   "cell_type": "code",
   "execution_count": 62,
   "metadata": {
    "ExecuteTime": {
     "end_time": "2019-04-26T07:33:55.757067Z",
     "start_time": "2019-04-26T07:33:55.749504Z"
    }
   },
   "outputs": [
    {
     "name": "stdout",
     "output_type": "stream",
     "text": [
      "Effets partiels pour la question 17:\n",
      "\n",
      "const      0.707578\n",
      "city      -0.034085\n",
      "educ       0.043410\n",
      "age       -0.013026\n",
      "kidslt6   -0.307467\n",
      "kidsge6   -0.017341\n",
      "dtype: float64\n"
     ]
    }
   ],
   "source": [
    "print('Effets partiels pour la question 17:\\n')\n",
    "print(results.params)"
   ]
  },
  {
   "cell_type": "markdown",
   "metadata": {},
   "source": [
    "On observe qu'avec le modèle probit les effets partiels des variables explicatives est plus grand en valeur absolue, comparé aux model de régression linéaire.\n",
    "\n",
    "Cela s'explique par le fait que comme on modelise une probabilité avec le modèle probit (à la place d'une valeur binaire 0 ou 1), le modèle a plus de liberté et est moins \"rigide\". "
   ]
  },
  {
   "cell_type": "markdown",
   "metadata": {},
   "source": [
    "### 20. Faire le test de non significativité jointes des coefficients associés à kidslt6 et à kidsgt6 en utilisant la méthode du rapport de vraisemblance. Comparez aux résultazts de la question 18."
   ]
  },
  {
   "cell_type": "code",
   "execution_count": 70,
   "metadata": {
    "ExecuteTime": {
     "end_time": "2019-04-27T17:24:22.088621Z",
     "start_time": "2019-04-27T17:24:22.069416Z"
    }
   },
   "outputs": [
    {
     "name": "stdout",
     "output_type": "stream",
     "text": [
      "Optimization terminated successfully.\n",
      "         Current function value: 0.663577\n",
      "         Iterations 4\n"
     ]
    }
   ],
   "source": [
    "# Unrestricted log-likelihood\n",
    "lu = results_prob.llf\n",
    "\n",
    "# Restricted regression and restricted log-likelihood\n",
    "model_r = sm.Probit(df.inlf, X[['const','city','educ', 'age']])\n",
    "results_r = model_r.fit()\n",
    "lr = results_r.llf"
   ]
  },
  {
   "cell_type": "code",
   "execution_count": 71,
   "metadata": {
    "ExecuteTime": {
     "end_time": "2019-04-27T17:24:22.786428Z",
     "start_time": "2019-04-27T17:24:22.775690Z"
    }
   },
   "outputs": [
    {
     "name": "stdout",
     "output_type": "stream",
     "text": [
      "L'hypothèse nulle de non significativité jointes des coefficients associés à kidslt6 et à kidsgt6 a été réjetée\n"
     ]
    }
   ],
   "source": [
    "# Compute ratio and compare with quantile of chi-square distribution with 2 degrees of freedom (2 constraints)\n",
    "ratio = 2*(lu - lr)\n",
    "\n",
    "q = chi2.ppf(0.95,2)\n",
    "\n",
    "if ratio > q:\n",
    "    print(\"L'hypothèse nulle de non significativité jointes des coefficients associés à kidslt6 et à kidsgt6 a été réjetée\")\n",
    "else:\n",
    "    print(\"L'hypothèse nulle de non significativité jointes des coefficients associés à kidslt6 et à kidsgt6 n'a pas été réjetée\")"
   ]
  },
  {
   "cell_type": "markdown",
   "metadata": {},
   "source": [
    "Ainsi comme pour la question 18, l'hypothèse jointe de non significativité des coefficients associés à kidslt6 et à kidsgt6 a été réjetée.\n",
    "\n",
    "Nous avons alors un très fort indicateur de la non-significativité jointe de ces coefficients, qui est suppoortée par les deux tests."
   ]
  },
  {
   "cell_type": "markdown",
   "metadata": {},
   "source": [
    "## Partie 2. Séries Temporelles"
   ]
  },
  {
   "cell_type": "markdown",
   "metadata": {},
   "source": [
    "### Importer les données du fichier quarterly.xls (corriger le problème éventuel d’observations manquantes)"
   ]
  },
  {
   "cell_type": "code",
   "execution_count": 86,
   "metadata": {
    "ExecuteTime": {
     "end_time": "2019-04-28T20:24:02.892343Z",
     "start_time": "2019-04-28T20:24:02.794154Z"
    }
   },
   "outputs": [
    {
     "data": {
      "text/html": [
       "<div>\n",
       "<style scoped>\n",
       "    .dataframe tbody tr th:only-of-type {\n",
       "        vertical-align: middle;\n",
       "    }\n",
       "\n",
       "    .dataframe tbody tr th {\n",
       "        vertical-align: top;\n",
       "    }\n",
       "\n",
       "    .dataframe thead th {\n",
       "        text-align: right;\n",
       "    }\n",
       "</style>\n",
       "<table border=\"1\" class=\"dataframe\">\n",
       "  <thead>\n",
       "    <tr style=\"text-align: right;\">\n",
       "      <th></th>\n",
       "      <th>DATE</th>\n",
       "      <th>FFR</th>\n",
       "      <th>Tbill</th>\n",
       "      <th>Tb1yr</th>\n",
       "      <th>r5</th>\n",
       "      <th>r10</th>\n",
       "      <th>PPINSA</th>\n",
       "      <th>Finished</th>\n",
       "      <th>CPI</th>\n",
       "      <th>CPICORE</th>\n",
       "      <th>M1NSA</th>\n",
       "      <th>M2SA</th>\n",
       "      <th>M2NSA</th>\n",
       "      <th>Unemp</th>\n",
       "      <th>IndProd</th>\n",
       "      <th>RGDP</th>\n",
       "      <th>Potent</th>\n",
       "      <th>Deflator</th>\n",
       "      <th>Curr</th>\n",
       "    </tr>\n",
       "  </thead>\n",
       "  <tbody>\n",
       "    <tr>\n",
       "      <th>0</th>\n",
       "      <td>1960Q1</td>\n",
       "      <td>3.93</td>\n",
       "      <td>3.87</td>\n",
       "      <td>4.57</td>\n",
       "      <td>4.64</td>\n",
       "      <td>4.49</td>\n",
       "      <td>31.67</td>\n",
       "      <td>33.20</td>\n",
       "      <td>29.40</td>\n",
       "      <td>18.92</td>\n",
       "      <td>140.53</td>\n",
       "      <td>896.1</td>\n",
       "      <td>299.40</td>\n",
       "      <td>5.13</td>\n",
       "      <td>23.93</td>\n",
       "      <td>2845.3</td>\n",
       "      <td>2824.2</td>\n",
       "      <td>18.521</td>\n",
       "      <td>31.830</td>\n",
       "    </tr>\n",
       "    <tr>\n",
       "      <th>1</th>\n",
       "      <td>1960Q2</td>\n",
       "      <td>3.70</td>\n",
       "      <td>2.99</td>\n",
       "      <td>3.87</td>\n",
       "      <td>4.30</td>\n",
       "      <td>4.26</td>\n",
       "      <td>31.73</td>\n",
       "      <td>33.40</td>\n",
       "      <td>29.57</td>\n",
       "      <td>19.00</td>\n",
       "      <td>138.40</td>\n",
       "      <td>903.3</td>\n",
       "      <td>300.03</td>\n",
       "      <td>5.23</td>\n",
       "      <td>23.41</td>\n",
       "      <td>2832.0</td>\n",
       "      <td>2851.2</td>\n",
       "      <td>18.579</td>\n",
       "      <td>31.862</td>\n",
       "    </tr>\n",
       "    <tr>\n",
       "      <th>2</th>\n",
       "      <td>1960Q3</td>\n",
       "      <td>2.94</td>\n",
       "      <td>2.36</td>\n",
       "      <td>3.07</td>\n",
       "      <td>3.67</td>\n",
       "      <td>3.83</td>\n",
       "      <td>31.63</td>\n",
       "      <td>33.43</td>\n",
       "      <td>29.59</td>\n",
       "      <td>19.07</td>\n",
       "      <td>139.60</td>\n",
       "      <td>919.4</td>\n",
       "      <td>305.50</td>\n",
       "      <td>5.53</td>\n",
       "      <td>23.02</td>\n",
       "      <td>2836.6</td>\n",
       "      <td>2878.7</td>\n",
       "      <td>18.648</td>\n",
       "      <td>32.217</td>\n",
       "    </tr>\n",
       "    <tr>\n",
       "      <th>3</th>\n",
       "      <td>1960Q4</td>\n",
       "      <td>2.30</td>\n",
       "      <td>2.31</td>\n",
       "      <td>2.99</td>\n",
       "      <td>3.75</td>\n",
       "      <td>3.89</td>\n",
       "      <td>31.70</td>\n",
       "      <td>33.67</td>\n",
       "      <td>29.78</td>\n",
       "      <td>19.14</td>\n",
       "      <td>142.67</td>\n",
       "      <td>932.8</td>\n",
       "      <td>312.30</td>\n",
       "      <td>6.27</td>\n",
       "      <td>22.47</td>\n",
       "      <td>2800.2</td>\n",
       "      <td>2906.7</td>\n",
       "      <td>18.700</td>\n",
       "      <td>32.624</td>\n",
       "    </tr>\n",
       "    <tr>\n",
       "      <th>4</th>\n",
       "      <td>1961Q1</td>\n",
       "      <td>2.00</td>\n",
       "      <td>2.35</td>\n",
       "      <td>2.87</td>\n",
       "      <td>3.64</td>\n",
       "      <td>3.79</td>\n",
       "      <td>31.80</td>\n",
       "      <td>33.63</td>\n",
       "      <td>29.84</td>\n",
       "      <td>19.17</td>\n",
       "      <td>142.23</td>\n",
       "      <td>948.9</td>\n",
       "      <td>317.10</td>\n",
       "      <td>6.80</td>\n",
       "      <td>22.13</td>\n",
       "      <td>2816.9</td>\n",
       "      <td>2934.8</td>\n",
       "      <td>18.743</td>\n",
       "      <td>32.073</td>\n",
       "    </tr>\n",
       "  </tbody>\n",
       "</table>\n",
       "</div>"
      ],
      "text/plain": [
       "     DATE   FFR  Tbill  Tb1yr    r5   r10  PPINSA  Finished    CPI  CPICORE  \\\n",
       "0  1960Q1  3.93   3.87   4.57  4.64  4.49   31.67     33.20  29.40    18.92   \n",
       "1  1960Q2  3.70   2.99   3.87  4.30  4.26   31.73     33.40  29.57    19.00   \n",
       "2  1960Q3  2.94   2.36   3.07  3.67  3.83   31.63     33.43  29.59    19.07   \n",
       "3  1960Q4  2.30   2.31   2.99  3.75  3.89   31.70     33.67  29.78    19.14   \n",
       "4  1961Q1  2.00   2.35   2.87  3.64  3.79   31.80     33.63  29.84    19.17   \n",
       "\n",
       "    M1NSA   M2SA   M2NSA  Unemp  IndProd    RGDP  Potent  Deflator    Curr  \n",
       "0  140.53  896.1  299.40   5.13    23.93  2845.3  2824.2    18.521  31.830  \n",
       "1  138.40  903.3  300.03   5.23    23.41  2832.0  2851.2    18.579  31.862  \n",
       "2  139.60  919.4  305.50   5.53    23.02  2836.6  2878.7    18.648  32.217  \n",
       "3  142.67  932.8  312.30   6.27    22.47  2800.2  2906.7    18.700  32.624  \n",
       "4  142.23  948.9  317.10   6.80    22.13  2816.9  2934.8    18.743  32.073  "
      ]
     },
     "execution_count": 86,
     "metadata": {},
     "output_type": "execute_result"
    }
   ],
   "source": [
    "df = pd.read_excel('quarterly.xls')\n",
    "df.head()"
   ]
  },
  {
   "cell_type": "code",
   "execution_count": 87,
   "metadata": {
    "ExecuteTime": {
     "end_time": "2019-04-28T20:24:03.527947Z",
     "start_time": "2019-04-28T20:24:03.520373Z"
    }
   },
   "outputs": [
    {
     "name": "stdout",
     "output_type": "stream",
     "text": [
      "Données manquantes :  False\n"
     ]
    }
   ],
   "source": [
    "# On vérifie s'il y a d'éventuelles valeurs manquantes\n",
    "print('Données manquantes : ', df.isnull().values.any())"
   ]
  },
  {
   "cell_type": "markdown",
   "metadata": {},
   "source": [
    "### Calculer inf, le taux d’inflation à partir de la variable CPI. Faire un graphique dans le temps de inf. Commentez."
   ]
  },
  {
   "cell_type": "markdown",
   "metadata": {},
   "source": [
    "taux inflation = $\\frac{(CPI(t+Q) - CPI(t))\\times100}{CPI(t)}$"
   ]
  },
  {
   "cell_type": "code",
   "execution_count": 91,
   "metadata": {
    "ExecuteTime": {
     "end_time": "2019-04-28T20:24:52.982388Z",
     "start_time": "2019-04-28T20:24:52.977671Z"
    }
   },
   "outputs": [],
   "source": [
    "df['inf'] = df['CPI'].pct_change()*100 "
   ]
  },
  {
   "cell_type": "code",
   "execution_count": 92,
   "metadata": {
    "ExecuteTime": {
     "end_time": "2019-04-28T20:24:57.142465Z",
     "start_time": "2019-04-28T20:24:56.948315Z"
    }
   },
   "outputs": [
    {
     "data": {
      "text/plain": [
       "<matplotlib.axes._subplots.AxesSubplot at 0x11b9a9588>"
      ]
     },
     "execution_count": 92,
     "metadata": {},
     "output_type": "execute_result"
    },
    {
     "data": {
      "image/png": "[encoded data removed]",
      "text/plain": [
       "<Figure size 432x288 with 1 Axes>"
      ]
     },
     "metadata": {},
     "output_type": "display_data"
    }
   ],
   "source": [
    "df.inf.dropna().plot(title=\"Evolution du taux d'inflation par Quarter\")"
   ]
  },
  {
   "cell_type": "markdown",
   "metadata": {},
   "source": []
  },
  {
   "cell_type": "markdown",
   "metadata": {},
   "source": [
    "### Interpréter l'autocorrélogramme et l'autocorrélogrammes partiels de inf. Quelle est la différence entre ces deux graphiques ?"
   ]
  },
  {
   "cell_type": "code",
   "execution_count": 93,
   "metadata": {
    "ExecuteTime": {
     "end_time": "2019-04-28T20:25:02.337395Z",
     "start_time": "2019-04-28T20:25:02.031261Z"
    }
   },
   "outputs": [
    {
     "data": {
      "image/png": "[encoded data removed]",
      "text/plain": [
       "<Figure size 864x576 with 1 Axes>"
      ]
     },
     "metadata": {},
     "output_type": "display_data"
    }
   ],
   "source": [
    "from statsmodels.tsa.stattools import acf\n",
    "acf = acf(df.inf.dropna())\n",
    "plt.figure(figsize=(12,8))\n",
    "plt.bar(range(0, len(acf)),acf)\n",
    "plt.title(\"Autocorrélogramme de inf\")\n",
    "plt.show()"
   ]
  },
  {
   "cell_type": "code",
   "execution_count": 94,
   "metadata": {
    "ExecuteTime": {
     "end_time": "2019-04-28T20:25:05.096442Z",
     "start_time": "2019-04-28T20:25:04.776173Z"
    }
   },
   "outputs": [
    {
     "data": {
      "image/png": "[encoded data removed]",
      "text/plain": [
       "<Figure size 864x576 with 1 Axes>"
      ]
     },
     "metadata": {},
     "output_type": "display_data"
    }
   ],
   "source": [
    "from statsmodels.tsa.stattools import pacf\n",
    "pacf = pacf(np.array(df.inf.dropna()))\n",
    "plt.figure(figsize=(12,8))\n",
    "plt.bar(range(0, len(pacf)), pacf)\n",
    "plt.title(\"Autocorrélogramme prtiel de inf\")\n",
    "plt.show()"
   ]
  },
  {
   "cell_type": "markdown",
   "metadata": {},
   "source": [
    "L'autocorrélogramme représente la corrélation d'une variable avec elle-même après *k* laps de temps tandis que l'autocorrélogramme partiel va regarder à ces mêmes corrélations entre la variable à l'instant *t* et *t+k* tout en supprimant toutes les dépendances linéaires existantes entre la variable et les copies d'elle même entre les temps *t* et *t+k*."
   ]
  },
  {
   "cell_type": "markdown",
   "metadata": {},
   "source": [
    "### Quelle est la différence entre la stationnarité et l'ergodicité ? Pourquoi a-t-on besoin de ces deux conditions. Expliquez le terme \"spurious regression\"."
   ]
  },
  {
   "cell_type": "markdown",
   "metadata": {},
   "source": [
    "La stationnarité traduit l'invariabilité des statistiques (moyenne, variance...) d'un processus en fonction du temps tandis que l'ergodicité traduit la possibilité de calculer les statistiques d'un processus par l'étude d'une portion de ce dernier. \n",
    "\n"
   ]
  },
  {
   "cell_type": "markdown",
   "metadata": {},
   "source": [
    "Le terme de \"Spurious Regression\" traduit la corrélation entre 2 variables en l'absence de causalité qui donne des résulats erronés si interprétés naïvement. Par exemple, associer le nombre de films dans lesquels Nicolas Cage apparaît et le nombre de personnes décédées en se noyant dans leur piscine serait une \"Spurious Regression\"."
   ]
  },
  {
   "cell_type": "markdown",
   "metadata": {},
   "source": [
    "### Proposer une modélisation AR(p) de inf, en utilisant tous les outils vus au cours."
   ]
  },
  {
   "cell_type": "markdown",
   "metadata": {
    "ExecuteTime": {
     "end_time": "2019-04-28T12:37:00.572565Z",
     "start_time": "2019-04-28T12:37:00.557663Z"
    }
   },
   "source": [
    "Un modèle autorégressif d'ordre *p* pour la variable *inf* se traduit de la manière suivante:\n",
    "$inf_{t} = \t\\Phi_{1} inf_{t-1} + \\Phi_{2} inf_{t-2} +...+ \\Phi_{p} inf_{t-p} + u_{t}$\n",
    "\n",
    "En se référant à l'autocorrélogramme partiel vu Q3, on peut supposer que l'odre du modèle est de 3, les 4 premiers coefficients sont significatifs (mais on ne compte pas le tout premier car une variable est forcément auto-corrélée à elle-même). Vérifions le en utilisant le critère AIC vu en cours pour obtenir l'ordre *p* du modèle."
   ]
  },
  {
   "cell_type": "code",
   "execution_count": 95,
   "metadata": {
    "ExecuteTime": {
     "end_time": "2019-04-28T20:25:10.541790Z",
     "start_time": "2019-04-28T20:25:10.510292Z"
    }
   },
   "outputs": [
    {
     "name": "stdout",
     "output_type": "stream",
     "text": [
      "Ordre du modèle retenu 3\n"
     ]
    },
    {
     "name": "stderr",
     "output_type": "stream",
     "text": [
      "/Users/matyasamrouche/anaconda3/lib/python3.6/site-packages/statsmodels/tsa/base/tsa_model.py:221: ValueWarning: An unsupported index was provided and will be ignored when e.g. forecasting.\n",
      "  ' ignored when e.g. forecasting.', ValueWarning)\n"
     ]
    }
   ],
   "source": [
    "from statsmodels.tsa.ar_model import AR\n",
    "\n",
    "AR = AR(df.inf.dropna())\n",
    "AR_fit = AR.fit(ic='AIC')\n",
    "print(\"Ordre du modèle retenu\", AR_fit.df_model-1)"
   ]
  },
  {
   "cell_type": "markdown",
   "metadata": {},
   "source": [
    "### Estimer le modèle de la courbe de Philips qui explique le taux de chômage (Unemp) en fonction du taux d’inflation courant et une constante."
   ]
  },
  {
   "cell_type": "code",
   "execution_count": 96,
   "metadata": {
    "ExecuteTime": {
     "end_time": "2019-04-28T20:25:34.787324Z",
     "start_time": "2019-04-28T20:25:34.606621Z"
    }
   },
   "outputs": [
    {
     "data": {
      "image/png": "[encoded data removed]",
      "text/plain": [
       "<Figure size 432x288 with 1 Axes>"
      ]
     },
     "metadata": {},
     "output_type": "display_data"
    }
   ],
   "source": [
    "plt.scatter(df.Unemp, df.inf)\n",
    "plt.xlabel(\"Taux d'inflation\")\n",
    "plt.ylabel(\"Taux de chômage\")\n",
    "plt.title(\"Courbe de Philips\")\n",
    "plt.show()"
   ]
  },
  {
   "cell_type": "markdown",
   "metadata": {
    "ExecuteTime": {
     "end_time": "2019-04-28T14:48:30.632619Z",
     "start_time": "2019-04-28T14:48:30.618128Z"
    }
   },
   "source": [
    "On veut expliquer *Unemp* en fonction de *inf* et une constante : $Unemp_{t}=\\beta_{0}+\\beta_{1}inf_{t}+r_{t}$"
   ]
  },
  {
   "cell_type": "code",
   "execution_count": 132,
   "metadata": {
    "ExecuteTime": {
     "end_time": "2019-04-28T20:49:33.768846Z",
     "start_time": "2019-04-28T20:49:33.463100Z"
    }
   },
   "outputs": [
    {
     "name": "stderr",
     "output_type": "stream",
     "text": [
      "/Users/matyasamrouche/anaconda3/lib/python3.6/site-packages/scipy/stats/stats.py:1713: FutureWarning: Using a non-tuple sequence for multidimensional indexing is deprecated; use `arr[tuple(seq)]` instead of `arr[seq]`. In the future this will be interpreted as an array index, `arr[np.array(seq)]`, which will result either in an error or a different result.\n",
      "  return np.add.reduce(sorted[indexer] * weights, axis=axis) / sumval\n"
     ]
    },
    {
     "data": {
      "image/png": "[encoded data removed]",
      "text/plain": [
       "<Figure size 360x360 with 1 Axes>"
      ]
     },
     "metadata": {},
     "output_type": "display_data"
    }
   ],
   "source": [
    "sns.lmplot(x='inf', y='Unemp', data=df)\n",
    "plt.show()"
   ]
  },
  {
   "cell_type": "code",
   "execution_count": 193,
   "metadata": {
    "ExecuteTime": {
     "end_time": "2019-04-28T21:14:36.261450Z",
     "start_time": "2019-04-28T21:14:36.252366Z"
    }
   },
   "outputs": [],
   "source": [
    "X = pd.concat([pd.DataFrame(np.ones(212)), df.inf], axis=1)\n",
    "X = X.dropna()\n",
    "y = df.Unemp[1:]\n",
    "\n",
    "# OLS\n",
    "beta = np.linalg.inv(X.T@X)@X.T@y\n",
    "residus = y - X@beta"
   ]
  },
  {
   "cell_type": "code",
   "execution_count": 176,
   "metadata": {
    "ExecuteTime": {
     "end_time": "2019-04-28T21:11:46.673321Z",
     "start_time": "2019-04-28T21:11:46.669267Z"
    }
   },
   "outputs": [
    {
     "name": "stdout",
     "output_type": "stream",
     "text": [
      "Intercept = 6.070818917241144\n",
      "Pente = 0.015907987372646343\n"
     ]
    }
   ],
   "source": [
    "print('Intercept =', beta[0])\n",
    "print('Pente =', beta[1])"
   ]
  },
  {
   "cell_type": "markdown",
   "metadata": {},
   "source": [
    "### Tester l’autocorrélation des erreurs."
   ]
  },
  {
   "cell_type": "markdown",
   "metadata": {},
   "source": [
    "On veut maintenant tester l'éventuelle présence d'autocorrélation dans les erreurs. Nos résidus sont donnés par : $r_{t} = \\rho_{0} + \\rho_{1} r_{t-1}+e_{t}$ , on va donc tester la significativité de la pente.\n",
    "\n",
    "Considérons l'hypothès nulle $H_{0} : \\rho = 0$\n",
    "\n",
    "En faisant un régression sur $\\hat r_{t} = \\rho_{0} + \\rho_{1} \\hat r_{t-1}+e_{t}$ , on trouve $\\hat \\rho$. Pour tester la siginficativité de $\\rho$ nous allons calculer la statistique $t_{\\hat \\rho}$ et ainsi estimer la *p-value* associée.\n",
    "\n",
    "Si la *p-value* est suffisamment faible on pourra rejeter l'hypothèse $H_{0}$ et établir que les erreurs sont autocorrélées."
   ]
  },
  {
   "cell_type": "code",
   "execution_count": 233,
   "metadata": {
    "ExecuteTime": {
     "end_time": "2019-04-28T21:44:52.139759Z",
     "start_time": "2019-04-28T21:44:52.089724Z"
    }
   },
   "outputs": [],
   "source": [
    "# Les résidus calculés Q6\n",
    "y = residus[1:].reset_index(drop=True)\n",
    "\n",
    "# Les résidus décalés de 1 step dans le temps \n",
    "X = pd.concat([pd.DataFrame(np.ones(211)), residus[:210].reset_index(drop=True).rename('pente')], axis=1)\n",
    "X = X.dropna()\n",
    "\n",
    "rho = np.linalg.inv(X.T@X)@X.T@y\n",
    "e = y - X@rho\n",
    "sigma_2 = e.T@e/210\n",
    "std = np.sqrt(np.diag(sigma_2*(np.linalg.inv(X.T@X))))\n",
    "\n",
    "# On a la statistique t associée à la siginificativité de la pente\n",
    "statistique_test = rho[1]/std[1]"
   ]
  },
  {
   "cell_type": "code",
   "execution_count": 235,
   "metadata": {
    "ExecuteTime": {
     "end_time": "2019-04-28T21:44:58.370740Z",
     "start_time": "2019-04-28T21:44:58.365457Z"
    }
   },
   "outputs": [
    {
     "name": "stdout",
     "output_type": "stream",
     "text": [
      "p-value = 0.0\n"
     ]
    }
   ],
   "source": [
    "from scipy.stats import t\n",
    "\n",
    "p_value = 2*(1 - t.cdf(statistique_test, 210)) \n",
    "print('p-value =', p_value)"
   ]
  },
  {
   "cell_type": "markdown",
   "metadata": {},
   "source": [
    "On rejette $H_{0}$, la pente est bien siginificative et les erreurs sont bien corrélées."
   ]
  },
  {
   "cell_type": "markdown",
   "metadata": {},
   "source": [
    "### Corriger l’autocorrélation des erreurs par la méthode vue en cours."
   ]
  },
  {
   "cell_type": "markdown",
   "metadata": {},
   "source": [
    "Nous allons transformer les données pour corriger l'autocorrélation présente dans les erreurs. Le modèle $PY = PX + Pu$ , a des erreurs homoscedastiques et indépendantes. Avec $P$ la matrice suivante :\n",
    "\n",
    "\\begin{bmatrix} \n",
    "\\sqrt{1-\\rho^2} & 0 & 0 & ... & ... & 0 \\\\\n",
    "-\\rho & 1 &  &  &  & ... \\\\\n",
    "0 & -\\rho & 1 &  &  &  \\\\\n",
    "... &  & -\\rho & 1 &  & ... \\\\\n",
    "... &  &  & -\\rho & 1 & 0 \\\\\n",
    "0 & ... & ... & 0 & -\\rho & 1 \n",
    "\\end{bmatrix}\n",
    "\n",
    "$\\rho$ étant la pente calculée Q7.\n",
    "\n",
    "Il ne nous reste plus qu'à réaliser une régression linéaire sur les données transformées."
   ]
  },
  {
   "cell_type": "markdown",
   "metadata": {},
   "source": [
    "### Tester la stabilité de la relation chômage-inflation sur deux sous-périodes de taille identique."
   ]
  },
  {
   "cell_type": "markdown",
   "metadata": {},
   "source": [
    "### Faites les tests changement de structure de Chow et détecter le point de rupture."
   ]
  },
  {
   "cell_type": "markdown",
   "metadata": {},
   "source": [
    "### Estimer la courbe de Philips en supprimant l'inflation courante des variables explicatives mais en ajoutant les délais d’ordre 1, 2, 3 et 4 de l’inflation et du chômage. Faire le test de Granger de non causalité de l’inflation sur le chômage. Donnez la p-valeur."
   ]
  },
  {
   "cell_type": "markdown",
   "metadata": {},
   "source": [
    "### Représentez graphiquement les délais distribués et commentez. Calculer l’impact à long de terme de l’inflation sur le chômage."
   ]
  }
 ],
 "metadata": {
  "hide_input": false,
  "kernelspec": {
   "display_name": "Python 3",
   "language": "python",
   "name": "python3"
  },
  "language_info": {
   "codemirror_mode": {
    "name": "ipython",
    "version": 3
   },
   "file_extension": ".py",
   "mimetype": "text/x-python",
   "name": "python",
   "nbconvert_exporter": "python",
   "pygments_lexer": "ipython3",
   "version": "3.6.7"
  },
  "toc": {
   "base_numbering": 1,
   "nav_menu": {},
   "number_sections": true,
   "sideBar": true,
   "skip_h1_title": false,
   "title_cell": "Table of Contents",
   "title_sidebar": "Contents",
   "toc_cell": false,
   "toc_position": {
    "height": "calc(100% - 180px)",
    "left": "10px",
    "top": "150px",
    "width": "288px"
   },
   "toc_section_display": true,
   "toc_window_display": true
  },
  "varInspector": {
   "cols": {
    "lenName": 16,
    "lenType": 16,
    "lenVar": 40
   },
   "kernels_config": {
    "python": {
     "delete_cmd_postfix": "",
     "delete_cmd_prefix": "del ",
     "library": "var_list.py",
     "varRefreshCmd": "print(var_dic_list())"
    },
    "r": {
     "delete_cmd_postfix": ") ",
     "delete_cmd_prefix": "rm(",
     "library": "var_list.r",
     "varRefreshCmd": "cat(var_dic_list()) "
    }
   },
   "types_to_exclude": [
    "module",
    "function",
    "builtin_function_or_method",
    "instance",
    "_Feature"
   ],
   "window_display": false
  }
 },
 "nbformat": 4,
 "nbformat_minor": 2
}
