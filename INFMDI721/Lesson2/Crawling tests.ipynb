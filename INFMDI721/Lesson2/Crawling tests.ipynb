{
 "cells": [
  {
   "cell_type": "code",
   "execution_count": 60,
   "metadata": {},
   "outputs": [],
   "source": [
    "# coding: utf-8\n",
    "import requests\n",
    "import unittest\n",
    "from bs4 import BeautifulSoup\n",
    "\n",
    "website_prefix = \"https://www.reuters.com/finance/stocks/financial-highlights/\"\n",
    "companies_url = {\"LVMH\":\"LVMH.PA\",\"Airbus\":\"AIR.PA\",\"Danone\":\"DANO.PA\"}\n",
    "\n",
    "def get_soup(url):\n",
    "    res = requests.get(url)\n",
    "    if res.status_code == 200:\n",
    "        html_code = res.text\n",
    "        soup = BeautifulSoup(html_code,\"html.parser\")\n",
    "    return soup\n",
    "\n",
    "def get_share_price(company):\n",
    "    url = website_prefix + companies_url[company]\n",
    "    soup = get_soup(url)\n",
    "    specific_style = \"font-size: 23px;\"\n",
    "    share_price = soup.find(\"span\", style = specific_style).text\n",
    "    return float(share_price[5:])"
   ]
  },
  {
   "cell_type": "code",
   "execution_count": 61,
   "metadata": {},
   "outputs": [
    {
     "data": {
      "text/plain": [
       "261.95"
      ]
     },
     "execution_count": 61,
     "metadata": {},
     "output_type": "execute_result"
    }
   ],
   "source": [
    "get_share_price(\"LVMH\")"
   ]
  },
  {
   "cell_type": "code",
   "execution_count": null,
   "metadata": {},
   "outputs": [],
   "source": []
  }
 ],
 "metadata": {
  "kernelspec": {
   "display_name": "Python 3",
   "language": "python",
   "name": "python3"
  },
  "language_info": {
   "codemirror_mode": {
    "name": "ipython",
    "version": 3
   },
   "file_extension": ".py",
   "mimetype": "text/x-python",
   "name": "python",
   "nbconvert_exporter": "python",
   "pygments_lexer": "ipython3",
   "version": "3.6.5"
  }
 },
 "nbformat": 4,
 "nbformat_minor": 2
}
