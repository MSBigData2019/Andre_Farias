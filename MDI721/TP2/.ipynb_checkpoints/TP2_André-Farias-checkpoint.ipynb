{
 "cells": [
  {
   "cell_type": "markdown",
   "metadata": {},
   "source": [
    "# TP 2: Linear regression\n",
    "\n",
    "## Exercise 1\n",
    "\n",
    "### 1)"
   ]
  },
  {
   "cell_type": "code",
   "execution_count": 17,
   "metadata": {},
   "outputs": [],
   "source": [
    "import pandas as pd\n",
    "import numpy as np\n",
    "import matplotlib.pyplot as plt\n",
    "import seaborn as sns\n",
    "\n",
    "%matplotlib inline"
   ]
  },
  {
   "cell_type": "code",
   "execution_count": 18,
   "metadata": {},
   "outputs": [
    {
     "data": {
      "text/html": [
       "<div>\n",
       "<style scoped>\n",
       "    .dataframe tbody tr th:only-of-type {\n",
       "        vertical-align: middle;\n",
       "    }\n",
       "\n",
       "    .dataframe tbody tr th {\n",
       "        vertical-align: top;\n",
       "    }\n",
       "\n",
       "    .dataframe thead th {\n",
       "        text-align: right;\n",
       "    }\n",
       "</style>\n",
       "<table border=\"1\" class=\"dataframe\">\n",
       "  <thead>\n",
       "    <tr style=\"text-align: right;\">\n",
       "      <th></th>\n",
       "      <th>year</th>\n",
       "      <th>gnp</th>\n",
       "      <th>invest</th>\n",
       "      <th>cpi</th>\n",
       "      <th>interest</th>\n",
       "    </tr>\n",
       "  </thead>\n",
       "  <tbody>\n",
       "    <tr>\n",
       "      <th>0</th>\n",
       "      <td>1968</td>\n",
       "      <td>873.4</td>\n",
       "      <td>133.3</td>\n",
       "      <td>82.54</td>\n",
       "      <td>5.16</td>\n",
       "    </tr>\n",
       "    <tr>\n",
       "      <th>1</th>\n",
       "      <td>1969</td>\n",
       "      <td>944.0</td>\n",
       "      <td>149.3</td>\n",
       "      <td>86.79</td>\n",
       "      <td>5.87</td>\n",
       "    </tr>\n",
       "    <tr>\n",
       "      <th>2</th>\n",
       "      <td>1970</td>\n",
       "      <td>992.7</td>\n",
       "      <td>144.2</td>\n",
       "      <td>91.45</td>\n",
       "      <td>5.95</td>\n",
       "    </tr>\n",
       "    <tr>\n",
       "      <th>3</th>\n",
       "      <td>1971</td>\n",
       "      <td>1077.6</td>\n",
       "      <td>166.4</td>\n",
       "      <td>96.01</td>\n",
       "      <td>4.88</td>\n",
       "    </tr>\n",
       "    <tr>\n",
       "      <th>4</th>\n",
       "      <td>1972</td>\n",
       "      <td>1185.9</td>\n",
       "      <td>195.0</td>\n",
       "      <td>100.00</td>\n",
       "      <td>4.50</td>\n",
       "    </tr>\n",
       "  </tbody>\n",
       "</table>\n",
       "</div>"
      ],
      "text/plain": [
       "   year     gnp  invest     cpi  interest\n",
       "0  1968   873.4   133.3   82.54      5.16\n",
       "1  1969   944.0   149.3   86.79      5.87\n",
       "2  1970   992.7   144.2   91.45      5.95\n",
       "3  1971  1077.6   166.4   96.01      4.88\n",
       "4  1972  1185.9   195.0  100.00      4.50"
      ]
     },
     "execution_count": 18,
     "metadata": {},
     "output_type": "execute_result"
    }
   ],
   "source": [
    "data = pd.read_csv(\"https://bitbucket.org/portierf/shared_files/downloads/invest.txt\" \\\n",
    "                  , sep=\" \")\n",
    "data.head()"
   ]
  },
  {
   "cell_type": "markdown",
   "metadata": {},
   "source": [
    "### 2)"
   ]
  },
  {
   "cell_type": "code",
   "execution_count": 19,
   "metadata": {},
   "outputs": [],
   "source": [
    "# getting x and Y from dataframe\n",
    "X = data['gnp']\n",
    "y = data['invest']"
   ]
  },
  {
   "cell_type": "code",
   "execution_count": 20,
   "metadata": {},
   "outputs": [
    {
     "data": {
      "text/plain": [
       "(100, 500)"
      ]
     },
     "execution_count": 20,
     "metadata": {},
     "output_type": "execute_result"
    },
    {
     "data": {
      "image/png": "[encoded data removed]",
      "text/plain": [
       "<Figure size 576x432 with 1 Axes>"
      ]
     },
     "metadata": {},
     "output_type": "display_data"
    }
   ],
   "source": [
    "# plotting graph\n",
    "sns.set_style(\"darkgrid\")\n",
    "\n",
    "plt.figure(figsize=(8,6))\n",
    "plt.plot(X,y)\n",
    "plt.title(\"Investment vs. GNP\")\n",
    "plt.xlabel(\"Gross National Product\")\n",
    "plt.ylabel(\"Investment\")\n",
    "plt.xlim(500,3500)\n",
    "plt.ylim(100,500)"
   ]
  },
  {
   "cell_type": "code",
   "execution_count": 21,
   "metadata": {},
   "outputs": [],
   "source": [
    "# transforming both variables to a log scale\n",
    "X = np.log(X) # log(gnp)\n",
    "y = np.log(y) # log(invest)"
   ]
  },
  {
   "cell_type": "markdown",
   "metadata": {},
   "source": [
    "### 3)"
   ]
  },
  {
   "cell_type": "code",
   "execution_count": 22,
   "metadata": {},
   "outputs": [],
   "source": [
    "# Compute average of Y and x\n",
    "X_avg, y_avg = np.average(X), np.average(y)\n",
    "\n",
    "# Compute slope using correlation between Y and y and their variances\n",
    "# (slide 21 of \"Modèle linéaire en dimension 1\")\n",
    "theta1 = X.corr(y)*np.sqrt(y.var(ddof=0))/np.sqrt(X.var(ddof=0))\n",
    "\n",
    "# Compute intercept using slope and variables avg\n",
    "theta0 = y_avg - theta1*X_avg\n",
    "\n",
    "# Empirical variance of noise (sigma_hat^2)\n",
    "n = X.size\n",
    "squared_sum_of_residues = sum((y - (theta0 + theta1*X))**2)\n",
    "sigma_hat = np.sqrt(squared_sum_of_residues/(n-2))\n",
    "\n",
    "# Standard error for theta0 (using V[beta0] - poly question 12)\n",
    "useful_sum = sum((X-X_avg)**2)\n",
    "std_theta0 = np.sqrt(sigma_hat**2 * (1/n + X_avg**2/(useful_sum)))\n",
    "\n",
    "# Standard error for theta1 (using V[beta1] - poly question 12)\n",
    "std_theta1 = np.sqrt(sigma_hat**2 / useful_sum)\n",
    "\n",
    "# R-squared (determination coefficient)\n",
    "R_squared = 1 - squared_sum_of_residues / sum((y-y_avg)**2)"
   ]
  },
  {
   "cell_type": "code",
   "execution_count": 23,
   "metadata": {},
   "outputs": [
    {
     "name": "stdout",
     "output_type": "stream",
     "text": [
      "Regression of 'Investment' on 'GNP':\n",
      "Slope: 1.015281401598871\n",
      "Intercept: -1.9635913352301815\n",
      "Slope std. error: 0.05538306035485281\n",
      "Intercept std. error: 0.40954727166230814\n",
      "R-squared: 0.9627572956057855\n"
     ]
    }
   ],
   "source": [
    "print(\"Regression of 'Investment' on 'GNP':\")\n",
    "print(f\"Slope: {theta1}\")\n",
    "print(f\"Intercept: {theta0}\")\n",
    "print(f\"Slope std. error: {std_theta1}\")\n",
    "print(f\"Intercept std. error: {std_theta0}\")\n",
    "print(f\"R-squared: {R_squared}\")"
   ]
  },
  {
   "cell_type": "markdown",
   "metadata": {},
   "source": [
    "### 4)"
   ]
  },
  {
   "cell_type": "code",
   "execution_count": 24,
   "metadata": {},
   "outputs": [],
   "source": [
    "from scipy.stats import t # library to calculate quantiles and cdf of student's dist. \n",
    "\n",
    "def statistic(g_star,g_hat,std_error):\n",
    "    # g_star is the parameter we are trying to test and g_hat is \n",
    "    # our estimator for that parameter\n",
    "    return (g_hat - g_star)/std_error\n",
    "\n",
    "def test_student(g_star, g_hat, std_error, alpha, dg_freedom):\n",
    "    # test under H0 : g = g_star\n",
    "    \n",
    "    quantile = t.ppf(1-alpha/2,dg_freedom)\n",
    "    stat = statistic(g_star, g_hat, std_error)\n",
    "    \n",
    "    # test is true if statistic is in [-quantile(1-alpha/2),+quantile(1-alpha/2)]\n",
    "    if stat > - quantile and stat < quantile:\n",
    "        return True # we do not reject H0\n",
    "    else:\n",
    "        return False # we reject H0\n",
    "    \n",
    "def p_value(g_star, g_hat, std_error, dg_freedom):\n",
    "    stat = statistic(g_star, g_hat, std_error)\n",
    "    return 2*(1 - t.cdf(np.abs(stat), dg_freedom))"
   ]
  },
  {
   "cell_type": "code",
   "execution_count": 25,
   "metadata": {},
   "outputs": [
    {
     "name": "stdout",
     "output_type": "stream",
     "text": [
      "The slope is statistically significant\n",
      "Statistic of test: 18.331984456866678\n",
      "P-value: 3.4894087619363745e-11\n"
     ]
    }
   ],
   "source": [
    "# Test if slope is statistically significant \n",
    "# H0 : theta1 = 0 => g_star = 0 , g_hat = theta1\n",
    "# using a 95% confidence test\n",
    "\n",
    "if test_student(0, theta1, std_theta1, 0.95, n-2):\n",
    "    print(\"The slope is not statistically significant\")\n",
    "else:\n",
    "    print(\"The slope is statistically significant\")\n",
    "\n",
    "stat = statistic(0, theta1, std_theta1)\n",
    "pvalue = p_value(0, theta1, std_theta1, n-1)\n",
    "print(f'Statistic of test: {stat}')\n",
    "print(f'P-value: {pvalue}')"
   ]
  },
  {
   "cell_type": "markdown",
   "metadata": {},
   "source": [
    "### 6)"
   ]
  },
  {
   "cell_type": "code",
   "execution_count": 28,
   "metadata": {},
   "outputs": [
    {
     "name": "stdout",
     "output_type": "stream",
     "text": [
      "Prediction for GNP = 1000: \n",
      "Investment = 155.97942793105494\n"
     ]
    }
   ],
   "source": [
    "# Estimate for GNP = 1000\n",
    "X_new = np.log(1000)\n",
    "y_new = theta0 + X_new*theta1\n",
    "pred = np.exp(y_new)\n",
    "print(f'Prediction for GNP = 1000: \\nInvestment = {pred}')"
   ]
  },
  {
   "cell_type": "code",
   "execution_count": 29,
   "metadata": {},
   "outputs": [
    {
     "name": "stdout",
     "output_type": "stream",
     "text": [
      "The Confidence Interval is: [153.10723613539128, 158.905500169729]\n",
      "The Prediction Interval is: [136.02567992681293, 178.86021191578982]\n"
     ]
    }
   ],
   "source": [
    "# Computation of CI \n",
    "q = t.ppf(0.9,n-2)\n",
    "std_error_for_CI = sigma_hat * (1/n + (X_new-X_avg)**2 / useful_sum)\n",
    "ci_inf = theta0 + X_new*theta1 - q*std_error_for_CI\n",
    "ci_sup = theta0 + X_new*theta1 + q*std_error_for_CI\n",
    "\n",
    "# applying exp() on the boundaries to get interval in the same\n",
    "# units as our predictions\n",
    "ci_inf = np.exp(ci_inf)\n",
    "ci_sup = np.exp(ci_sup)\n",
    "\n",
    "# Computation of PI\n",
    "std_error_for_PI = sigma_hat * (1 + 1/n + (X_new-X_avg)**2 / useful_sum)\n",
    "pi_inf = theta0 + X_new*theta1 - q*std_error_for_PI\n",
    "pi_sup = theta0 + X_new*theta1 + q*std_error_for_PI\n",
    "\n",
    "# applying exp() on the boundaries to get interval in the same\n",
    "# units as our predictions\n",
    "pi_inf = np.exp(pi_inf)\n",
    "pi_sup = np.exp(pi_sup)\n",
    "\n",
    "# Display results\n",
    "print(f\"The Confidence Interval is: [{ci_inf}, {ci_sup}]\")\n",
    "print(f\"The Prediction Interval is: [{pi_inf}, {pi_sup}]\")"
   ]
  },
  {
   "cell_type": "markdown",
   "metadata": {},
   "source": [
    "### 6)"
   ]
  },
  {
   "cell_type": "code",
   "execution_count": null,
   "metadata": {},
   "outputs": [],
   "source": []
  }
 ],
 "metadata": {
  "kernelspec": {
   "display_name": "Python 3",
   "language": "python",
   "name": "python3"
  },
  "language_info": {
   "codemirror_mode": {
    "name": "ipython",
    "version": 3
   },
   "file_extension": ".py",
   "mimetype": "text/x-python",
   "name": "python",
   "nbconvert_exporter": "python",
   "pygments_lexer": "ipython3",
   "version": "3.6.5"
  }
 },
 "nbformat": 4,
 "nbformat_minor": 2
}
